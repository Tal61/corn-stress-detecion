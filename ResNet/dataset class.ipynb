{
 "cells": [
  {
   "cell_type": "code",
   "execution_count": 49,
   "metadata": {},
   "outputs": [],
   "source": [
    "from __future__ import print_function, division\n",
    "from PIL import Image\n",
    "import os\n",
    "import torch\n",
    "import pandas as pd\n",
    "from skimage import io, transform\n",
    "import numpy as np\n",
    "import matplotlib.pyplot as plt\n",
    "import natsort\n",
    "from spectral import *\n",
    "from torch.utils.data import Dataset, DataLoader, random_split\n",
    "from torchvision import utils, transforms \n",
    "from torch.utils.data import DataLoader\n",
    "# Ignore warnings\n",
    "import warnings\n",
    "warnings.filterwarnings(\"ignore\")"
   ]
  },
  {
   "cell_type": "code",
   "execution_count": 195,
   "metadata": {},
   "outputs": [
    {
     "name": "stdout",
     "output_type": "stream",
     "text": [
      "[0.16666667 0.16666667 0.16666667 0.16666667 0.16666667 0.16666667\n",
      " 0.16666667 0.16666667]\n",
      "0\n",
      "[0.16666667 0.16666667 0.16666667 0.16666667 0.16666667 0.16666667\n",
      " 0.16666667 0.16666667]\n",
      "1\n"
     ]
    },
    {
     "ename": "KeyError",
     "evalue": "2",
     "output_type": "error",
     "traceback": [
      "\u001B[1;31m---------------------------------------------------------------------------\u001B[0m",
      "\u001B[1;31mKeyError\u001B[0m                                  Traceback (most recent call last)",
      "\u001B[1;32m<ipython-input-195-7d4945072e5f>\u001B[0m in \u001B[0;36m<module>\u001B[1;34m\u001B[0m\n\u001B[0;32m     64\u001B[0m                                num_workers=0, drop_last=True)\n\u001B[0;32m     65\u001B[0m \u001B[1;33m\u001B[0m\u001B[0m\n\u001B[1;32m---> 66\u001B[1;33m \u001B[1;32mfor\u001B[0m \u001B[0midx\u001B[0m\u001B[1;33m,\u001B[0m \u001B[0mimg\u001B[0m \u001B[1;32min\u001B[0m \u001B[0menumerate\u001B[0m\u001B[1;33m(\u001B[0m\u001B[0mtrain_loader\u001B[0m\u001B[1;33m)\u001B[0m\u001B[1;33m:\u001B[0m\u001B[1;33m\u001B[0m\u001B[1;33m\u001B[0m\u001B[0m\n\u001B[0m\u001B[0;32m     67\u001B[0m     \u001B[1;31m#do your training now\u001B[0m\u001B[1;33m\u001B[0m\u001B[1;33m\u001B[0m\u001B[1;33m\u001B[0m\u001B[0m\n\u001B[0;32m     68\u001B[0m     \u001B[0mprint\u001B[0m\u001B[1;33m(\u001B[0m\u001B[0midx\u001B[0m\u001B[1;33m)\u001B[0m\u001B[1;33m\u001B[0m\u001B[1;33m\u001B[0m\u001B[0m\n",
      "\u001B[1;32m~\\AppData\\Local\\Continuum\\anaconda3\\envs\\pytorchenv\\lib\\site-packages\\torch\\utils\\data\\dataloader.py\u001B[0m in \u001B[0;36m__next__\u001B[1;34m(self)\u001B[0m\n\u001B[0;32m    558\u001B[0m         \u001B[1;32mif\u001B[0m \u001B[0mself\u001B[0m\u001B[1;33m.\u001B[0m\u001B[0mnum_workers\u001B[0m \u001B[1;33m==\u001B[0m \u001B[1;36m0\u001B[0m\u001B[1;33m:\u001B[0m  \u001B[1;31m# same-process loading\u001B[0m\u001B[1;33m\u001B[0m\u001B[1;33m\u001B[0m\u001B[0m\n\u001B[0;32m    559\u001B[0m             \u001B[0mindices\u001B[0m \u001B[1;33m=\u001B[0m \u001B[0mnext\u001B[0m\u001B[1;33m(\u001B[0m\u001B[0mself\u001B[0m\u001B[1;33m.\u001B[0m\u001B[0msample_iter\u001B[0m\u001B[1;33m)\u001B[0m  \u001B[1;31m# may raise StopIteration\u001B[0m\u001B[1;33m\u001B[0m\u001B[1;33m\u001B[0m\u001B[0m\n\u001B[1;32m--> 560\u001B[1;33m             \u001B[0mbatch\u001B[0m \u001B[1;33m=\u001B[0m \u001B[0mself\u001B[0m\u001B[1;33m.\u001B[0m\u001B[0mcollate_fn\u001B[0m\u001B[1;33m(\u001B[0m\u001B[1;33m[\u001B[0m\u001B[0mself\u001B[0m\u001B[1;33m.\u001B[0m\u001B[0mdataset\u001B[0m\u001B[1;33m[\u001B[0m\u001B[0mi\u001B[0m\u001B[1;33m]\u001B[0m \u001B[1;32mfor\u001B[0m \u001B[0mi\u001B[0m \u001B[1;32min\u001B[0m \u001B[0mindices\u001B[0m\u001B[1;33m]\u001B[0m\u001B[1;33m)\u001B[0m\u001B[1;33m\u001B[0m\u001B[1;33m\u001B[0m\u001B[0m\n\u001B[0m\u001B[0;32m    561\u001B[0m             \u001B[1;32mif\u001B[0m \u001B[0mself\u001B[0m\u001B[1;33m.\u001B[0m\u001B[0mpin_memory\u001B[0m\u001B[1;33m:\u001B[0m\u001B[1;33m\u001B[0m\u001B[1;33m\u001B[0m\u001B[0m\n\u001B[0;32m    562\u001B[0m                 \u001B[0mbatch\u001B[0m \u001B[1;33m=\u001B[0m \u001B[0m_utils\u001B[0m\u001B[1;33m.\u001B[0m\u001B[0mpin_memory\u001B[0m\u001B[1;33m.\u001B[0m\u001B[0mpin_memory_batch\u001B[0m\u001B[1;33m(\u001B[0m\u001B[0mbatch\u001B[0m\u001B[1;33m)\u001B[0m\u001B[1;33m\u001B[0m\u001B[1;33m\u001B[0m\u001B[0m\n",
      "\u001B[1;32m~\\AppData\\Local\\Continuum\\anaconda3\\envs\\pytorchenv\\lib\\site-packages\\torch\\utils\\data\\dataloader.py\u001B[0m in \u001B[0;36m<listcomp>\u001B[1;34m(.0)\u001B[0m\n\u001B[0;32m    558\u001B[0m         \u001B[1;32mif\u001B[0m \u001B[0mself\u001B[0m\u001B[1;33m.\u001B[0m\u001B[0mnum_workers\u001B[0m \u001B[1;33m==\u001B[0m \u001B[1;36m0\u001B[0m\u001B[1;33m:\u001B[0m  \u001B[1;31m# same-process loading\u001B[0m\u001B[1;33m\u001B[0m\u001B[1;33m\u001B[0m\u001B[0m\n\u001B[0;32m    559\u001B[0m             \u001B[0mindices\u001B[0m \u001B[1;33m=\u001B[0m \u001B[0mnext\u001B[0m\u001B[1;33m(\u001B[0m\u001B[0mself\u001B[0m\u001B[1;33m.\u001B[0m\u001B[0msample_iter\u001B[0m\u001B[1;33m)\u001B[0m  \u001B[1;31m# may raise StopIteration\u001B[0m\u001B[1;33m\u001B[0m\u001B[1;33m\u001B[0m\u001B[0m\n\u001B[1;32m--> 560\u001B[1;33m             \u001B[0mbatch\u001B[0m \u001B[1;33m=\u001B[0m \u001B[0mself\u001B[0m\u001B[1;33m.\u001B[0m\u001B[0mcollate_fn\u001B[0m\u001B[1;33m(\u001B[0m\u001B[1;33m[\u001B[0m\u001B[0mself\u001B[0m\u001B[1;33m.\u001B[0m\u001B[0mdataset\u001B[0m\u001B[1;33m[\u001B[0m\u001B[0mi\u001B[0m\u001B[1;33m]\u001B[0m \u001B[1;32mfor\u001B[0m \u001B[0mi\u001B[0m \u001B[1;32min\u001B[0m \u001B[0mindices\u001B[0m\u001B[1;33m]\u001B[0m\u001B[1;33m)\u001B[0m\u001B[1;33m\u001B[0m\u001B[1;33m\u001B[0m\u001B[0m\n\u001B[0m\u001B[0;32m    561\u001B[0m             \u001B[1;32mif\u001B[0m \u001B[0mself\u001B[0m\u001B[1;33m.\u001B[0m\u001B[0mpin_memory\u001B[0m\u001B[1;33m:\u001B[0m\u001B[1;33m\u001B[0m\u001B[1;33m\u001B[0m\u001B[0m\n\u001B[0;32m    562\u001B[0m                 \u001B[0mbatch\u001B[0m \u001B[1;33m=\u001B[0m \u001B[0m_utils\u001B[0m\u001B[1;33m.\u001B[0m\u001B[0mpin_memory\u001B[0m\u001B[1;33m.\u001B[0m\u001B[0mpin_memory_batch\u001B[0m\u001B[1;33m(\u001B[0m\u001B[0mbatch\u001B[0m\u001B[1;33m)\u001B[0m\u001B[1;33m\u001B[0m\u001B[1;33m\u001B[0m\u001B[0m\n",
      "\u001B[1;32m<ipython-input-195-7d4945072e5f>\u001B[0m in \u001B[0;36m__getitem__\u001B[1;34m(self, idx)\u001B[0m\n\u001B[0;32m     25\u001B[0m             \u001B[0mfinal_image\u001B[0m \u001B[1;33m=\u001B[0m \u001B[0mpad_img\u001B[0m\u001B[1;33m(\u001B[0m\u001B[0mresized\u001B[0m\u001B[1;33m,\u001B[0m \u001B[0msize\u001B[0m\u001B[1;33m,\u001B[0m \u001B[0mmean\u001B[0m\u001B[1;33m,\u001B[0m \u001B[0mblack_std\u001B[0m\u001B[1;33m,\u001B[0m \u001B[0mimg\u001B[0m\u001B[1;33m)\u001B[0m\u001B[1;33m\u001B[0m\u001B[1;33m\u001B[0m\u001B[0m\n\u001B[0;32m     26\u001B[0m         \u001B[1;32melse\u001B[0m\u001B[1;33m:\u001B[0m\u001B[1;33m\u001B[0m\u001B[1;33m\u001B[0m\u001B[0m\n\u001B[1;32m---> 27\u001B[1;33m             \u001B[0mhdr_loc\u001B[0m \u001B[1;33m=\u001B[0m \u001B[0mos\u001B[0m\u001B[1;33m.\u001B[0m\u001B[0mpath\u001B[0m\u001B[1;33m.\u001B[0m\u001B[0mjoin\u001B[0m\u001B[1;33m(\u001B[0m\u001B[0mself\u001B[0m\u001B[1;33m.\u001B[0m\u001B[0mmain_dir\u001B[0m\u001B[1;33m,\u001B[0m \u001B[0mself\u001B[0m\u001B[1;33m.\u001B[0m\u001B[0mtotal_imgs\u001B[0m\u001B[1;33m[\u001B[0m\u001B[0midx\u001B[0m\u001B[1;33m]\u001B[0m\u001B[1;33m)\u001B[0m\u001B[1;33m\u001B[0m\u001B[1;33m\u001B[0m\u001B[0m\n\u001B[0m\u001B[0;32m     28\u001B[0m             \u001B[0mimg_loc\u001B[0m \u001B[1;33m=\u001B[0m \u001B[0mos\u001B[0m\u001B[1;33m.\u001B[0m\u001B[0mpath\u001B[0m\u001B[1;33m.\u001B[0m\u001B[0mjoin\u001B[0m\u001B[1;33m(\u001B[0m\u001B[0mself\u001B[0m\u001B[1;33m.\u001B[0m\u001B[0mimage_dir\u001B[0m\u001B[1;33m,\u001B[0m \u001B[0mself\u001B[0m\u001B[1;33m.\u001B[0m\u001B[0mtotal_imgs\u001B[0m\u001B[1;33m[\u001B[0m\u001B[0midx\u001B[0m\u001B[1;33m]\u001B[0m\u001B[1;33m.\u001B[0m\u001B[0mreplace\u001B[0m\u001B[1;33m(\u001B[0m\u001B[1;34m\".hdr\"\u001B[0m\u001B[1;33m,\u001B[0m \u001B[1;34m\".img\"\u001B[0m\u001B[1;33m)\u001B[0m\u001B[1;33m)\u001B[0m\u001B[1;33m\u001B[0m\u001B[1;33m\u001B[0m\u001B[0m\n\u001B[0;32m     29\u001B[0m             \u001B[0mimage\u001B[0m \u001B[1;33m=\u001B[0m \u001B[0menvi\u001B[0m\u001B[1;33m.\u001B[0m\u001B[0mopen\u001B[0m\u001B[1;33m(\u001B[0m\u001B[0mhdr_loc\u001B[0m\u001B[1;33m,\u001B[0m \u001B[0mimg_loc\u001B[0m\u001B[1;33m)\u001B[0m\u001B[1;33m\u001B[0m\u001B[1;33m\u001B[0m\u001B[0m\n",
      "\u001B[1;32m~\\AppData\\Local\\Continuum\\anaconda3\\envs\\pytorchenv\\lib\\site-packages\\pandas\\core\\series.py\u001B[0m in \u001B[0;36m__getitem__\u001B[1;34m(self, key)\u001B[0m\n\u001B[0;32m    866\u001B[0m         \u001B[0mkey\u001B[0m \u001B[1;33m=\u001B[0m \u001B[0mcom\u001B[0m\u001B[1;33m.\u001B[0m\u001B[0mapply_if_callable\u001B[0m\u001B[1;33m(\u001B[0m\u001B[0mkey\u001B[0m\u001B[1;33m,\u001B[0m \u001B[0mself\u001B[0m\u001B[1;33m)\u001B[0m\u001B[1;33m\u001B[0m\u001B[1;33m\u001B[0m\u001B[0m\n\u001B[0;32m    867\u001B[0m         \u001B[1;32mtry\u001B[0m\u001B[1;33m:\u001B[0m\u001B[1;33m\u001B[0m\u001B[1;33m\u001B[0m\u001B[0m\n\u001B[1;32m--> 868\u001B[1;33m             \u001B[0mresult\u001B[0m \u001B[1;33m=\u001B[0m \u001B[0mself\u001B[0m\u001B[1;33m.\u001B[0m\u001B[0mindex\u001B[0m\u001B[1;33m.\u001B[0m\u001B[0mget_value\u001B[0m\u001B[1;33m(\u001B[0m\u001B[0mself\u001B[0m\u001B[1;33m,\u001B[0m \u001B[0mkey\u001B[0m\u001B[1;33m)\u001B[0m\u001B[1;33m\u001B[0m\u001B[1;33m\u001B[0m\u001B[0m\n\u001B[0m\u001B[0;32m    869\u001B[0m \u001B[1;33m\u001B[0m\u001B[0m\n\u001B[0;32m    870\u001B[0m             \u001B[1;32mif\u001B[0m \u001B[1;32mnot\u001B[0m \u001B[0mis_scalar\u001B[0m\u001B[1;33m(\u001B[0m\u001B[0mresult\u001B[0m\u001B[1;33m)\u001B[0m\u001B[1;33m:\u001B[0m\u001B[1;33m\u001B[0m\u001B[1;33m\u001B[0m\u001B[0m\n",
      "\u001B[1;32m~\\AppData\\Local\\Continuum\\anaconda3\\envs\\pytorchenv\\lib\\site-packages\\pandas\\core\\indexes\\base.py\u001B[0m in \u001B[0;36mget_value\u001B[1;34m(self, series, key)\u001B[0m\n\u001B[0;32m   4373\u001B[0m         \u001B[1;32mtry\u001B[0m\u001B[1;33m:\u001B[0m\u001B[1;33m\u001B[0m\u001B[1;33m\u001B[0m\u001B[0m\n\u001B[0;32m   4374\u001B[0m             return self._engine.get_value(s, k,\n\u001B[1;32m-> 4375\u001B[1;33m                                           tz=getattr(series.dtype, 'tz', None))\n\u001B[0m\u001B[0;32m   4376\u001B[0m         \u001B[1;32mexcept\u001B[0m \u001B[0mKeyError\u001B[0m \u001B[1;32mas\u001B[0m \u001B[0me1\u001B[0m\u001B[1;33m:\u001B[0m\u001B[1;33m\u001B[0m\u001B[1;33m\u001B[0m\u001B[0m\n\u001B[0;32m   4377\u001B[0m             \u001B[1;32mif\u001B[0m \u001B[0mlen\u001B[0m\u001B[1;33m(\u001B[0m\u001B[0mself\u001B[0m\u001B[1;33m)\u001B[0m \u001B[1;33m>\u001B[0m \u001B[1;36m0\u001B[0m \u001B[1;32mand\u001B[0m \u001B[1;33m(\u001B[0m\u001B[0mself\u001B[0m\u001B[1;33m.\u001B[0m\u001B[0mholds_integer\u001B[0m\u001B[1;33m(\u001B[0m\u001B[1;33m)\u001B[0m \u001B[1;32mor\u001B[0m \u001B[0mself\u001B[0m\u001B[1;33m.\u001B[0m\u001B[0mis_boolean\u001B[0m\u001B[1;33m(\u001B[0m\u001B[1;33m)\u001B[0m\u001B[1;33m)\u001B[0m\u001B[1;33m:\u001B[0m\u001B[1;33m\u001B[0m\u001B[1;33m\u001B[0m\u001B[0m\n",
      "\u001B[1;32mpandas/_libs/index.pyx\u001B[0m in \u001B[0;36mpandas._libs.index.IndexEngine.get_value\u001B[1;34m()\u001B[0m\n",
      "\u001B[1;32mpandas/_libs/index.pyx\u001B[0m in \u001B[0;36mpandas._libs.index.IndexEngine.get_value\u001B[1;34m()\u001B[0m\n",
      "\u001B[1;32mpandas/_libs/index.pyx\u001B[0m in \u001B[0;36mpandas._libs.index.IndexEngine.get_loc\u001B[1;34m()\u001B[0m\n",
      "\u001B[1;32mpandas/_libs/hashtable_class_helper.pxi\u001B[0m in \u001B[0;36mpandas._libs.hashtable.Int64HashTable.get_item\u001B[1;34m()\u001B[0m\n",
      "\u001B[1;32mpandas/_libs/hashtable_class_helper.pxi\u001B[0m in \u001B[0;36mpandas._libs.hashtable.Int64HashTable.get_item\u001B[1;34m()\u001B[0m\n",
      "\u001B[1;31mKeyError\u001B[0m: 2"
     ]
    }
   ],
   "source": [
    "class CustomDataSet(Dataset):\n",
    "    def __init__(self, main_dir, image_dir, no_background_dir, no_background_imgdir, transform, is_resize, img_list):\n",
    "        self.main_dir = main_dir\n",
    "        self.image_dir = image_dir\n",
    "        self.no_background_dir = no_background_dir\n",
    "        self.no_background_imgdir = no_background_imgdir\n",
    "        self.transform = transform\n",
    "        self.is_resize = is_resize\n",
    "        self.img_list = img_list\n",
    "        #all_imgs = os.listdir(main_dir)\n",
    "        self.total_imgs = img_list['img']    #natsort.natsorted(img_list['img'])\n",
    "\n",
    "    def __len__(self):\n",
    "        return len(self.total_imgs)\n",
    "\n",
    "    def __getitem__(self, idx):\n",
    "        if self.is_resize:\n",
    "            hdr_loc = os.path.join(self.no_background_dir, self.total_imgs[idx].replace(\"resized\", \"no_note\"))\n",
    "            img_loc = os.path.join(self.no_background_imgdir, self.total_imgs[idx].replace(\"resized.hdr\", \"no_note.img\"))\n",
    "            image = envi.open(hdr_loc, img_loc)\n",
    "            resized = resize(image, size)\n",
    "            \"\"\"get mean and std from top 2 rows for background\"\"\"\n",
    "            mean = np.median(image[:, 0:1, :], axis=(0, 1))  # median for every band\n",
    "            black_std = np.std(image[:, 0:1, :], axis=(0, 1))\n",
    "            final_image = pad_img(resized, size, mean, black_std, img)\n",
    "        else:\n",
    "            hdr_loc = os.path.join(self.main_dir, self.total_imgs[idx])\n",
    "            img_loc = os.path.join(self.image_dir, self.total_imgs[idx].replace(\".hdr\", \".img\"))\n",
    "            image = envi.open(hdr_loc, img_loc)\n",
    "            final_image = np.zeros((image.shape[0], image.shape[1], image.shape[2]))\n",
    "            final_image[:, :, :] = image[:, :, :]\n",
    "        x=[]\n",
    "        #set a seed so the same transforms are applied to each channel\n",
    "        seed = np.random.randint(2147483647)\n",
    "        for ch in range(final_image.shape[2]):\n",
    "            random.seed(seed)\n",
    "            x.append(transform(Image.fromarray(final_image[:, :, ch])))\n",
    "        #this is the multichannel transformed image (a torch tensor)\n",
    "        img_tfm = torch.cat(x)\n",
    "        y = self.img_list['label'][idx].values\n",
    "        print(y)\n",
    "        return img_tfm, y\n",
    "\n",
    "storage_path = \"D:/My Drive/StoragePath\"\n",
    "result_path = storage_path + \"/ExpResults/tal_exp_results\"\n",
    "resized_path = result_path + \"/resized\"\n",
    "resized_img_path = result_path + \"/resizes_img\"\n",
    "no_note_path = result_path + \"/no_note_background\"\n",
    "no_note_img_path = result_path + \"/no_note_background_img\"\n",
    "\n",
    "tfms = transforms.Compose([transforms.RandomHorizontalFlip(),\n",
    "                   transforms.ToTensor()])\n",
    "\n",
    "train_dataset = CustomDataSet(resized_path, resized_img_path, no_note_path, no_note_img_path, transform=tfms, is_resize=False, img_list = df_train)\n",
    "val_dataset = CustomDataSet(resized_path, resized_img_path, no_note_path, no_note_img_path, transform=tfms, is_resize=False, img_list = df_val)\n",
    "test_dataset = CustomDataSet(resized_path, resized_img_path, no_note_path, no_note_img_path, transform=tfms, is_resize=False, img_list = df_test)\n",
    "# x, y = random_split(my_dataset, [20, 9])\n",
    "\n",
    "train_loader = DataLoader(train_dataset , batch_size=1, shuffle=False, \n",
    "                               num_workers=0, drop_last=True)\n",
    "val_loader = DataLoader(val_dataset , batch_size=1, shuffle=False, \n",
    "                               num_workers=0, drop_last=True)\n",
    "test_loader = DataLoader(test_dataset , batch_size=1, shuffle=False, \n",
    "                               num_workers=0, drop_last=True)\n",
    "\n",
    "for idx, img in enumerate(train_loader):\n",
    "    #do your training now\n",
    "    print(idx)"
   ]
  },
  {
   "cell_type": "code",
   "execution_count": null,
   "metadata": {},
   "outputs": [],
   "source": []
  },
  {
   "cell_type": "code",
   "execution_count": 100,
   "metadata": {},
   "outputs": [],
   "source": [
    "def get_labels(img):\n",
    "    date = img.split('_')[2]\n",
    "    date = date.replace('-', '')\n",
    "    date = int(date[2:])\n",
    "    # img_name = img.split('_')[1]\n",
    "    # img_name = img_name.replace('plot', '')\n",
    "    if not (\"plot\" in img):\n",
    "        print(\"found image not of plot in no_note_background\")\n",
    "        return False\n",
    "    plot_num = int(img.split('plot')[1].split(\"_\")[0])\n",
    "    if plot_num > 0:\n",
    "        # print(date)\n",
    "        # print(f'getting labels')\n",
    "        labels = labels_df[(labels_df['SampleDate'] == date) & (labels_df['plot'] == plot_num)].iloc[0]\n",
    "        group = labels['group']\n",
    "        labels = labels.drop(labels=['plot', 'SampleDate', 'Y_cropped', 'group'])\n",
    "    return labels, group"
   ]
  },
  {
   "cell_type": "code",
   "execution_count": null,
   "metadata": {},
   "outputs": [],
   "source": [
    "def get_data_new(path, resized_path):\n",
    "    \"\"\"\n",
    "    :param path: data path\n",
    "    :param size: width and length of images (tuple)\n",
    "    :return:  dictionary of np.arrays of images and labels\n",
    "    \"\"\"\n",
    "    img_list = []\n",
    "    label_list = []\n",
    "    group_list = []\n",
    "    print(\"Getting data from source...\")\n",
    "\n",
    "    if not is_resize:\n",
    "        dir_list = os.listdir(resized_path)\n",
    "    else:\n",
    "        dir_list = os.listdir(path)\n",
    "    for i, img in enumerate(dir_list):\n",
    "        if i > total_img:\n",
    "            break\n",
    "        if \".img\" in img or \"2019-12-25\" in img:\n",
    "            continue\n",
    "        img_list.append(img)\n",
    "        labels, group = get_labels(img)\n",
    "        label_list.append(labels)\n",
    "        group_list.append(group)\n",
    "\n",
    "    \"\"\"split into groups\"\"\"\n",
    "    df = pd.DataFrame(\n",
    "        {'img': img_list,\n",
    "         'label': label_list,\n",
    "         'group': group_list\n",
    "         })\n",
    "    df['label'] = df['label'] / label_rank\n",
    "    df_train = pd.DataFrame(\n",
    "        columns=['img', 'label', 'group'])\n",
    "    df_val = pd.DataFrame(\n",
    "        columns=['img', 'label', 'group'])\n",
    "    df_test = pd.DataFrame(\n",
    "        columns=['img', 'label', 'group'])\n",
    "\n",
    "    for phenotype in range(total_phenotypes - 1):\n",
    "        df_phenotype = df[df['group'] == phenotype]\n",
    "        train_df_phenotype = df_phenotype.sample(frac = 0.6)\n",
    "        val_test_df_phenotype = df_phenotype.drop(train_df_phenotype.index)\n",
    "        test_df_phenotype = val_test_df_phenotype.sample(frac = 0.5)\n",
    "        val_df_phenotype = val_test_df_phenotype.drop(test_df_phenotype.index)\n",
    "        df_train = df_train.append(train_df_phenotype)\n",
    "        df_val = df_val.append(val_df_phenotype)\n",
    "        df_test = df_test.append(test_df_phenotype)\n",
    "    print(\"Getting data done.\")\n",
    "\n",
    "    return df_train, df_val, df_test"
   ]
  },
  {
   "cell_type": "code",
   "execution_count": 1,
   "outputs": [
    {
     "data": {
      "text/plain": "3"
     },
     "execution_count": 1,
     "metadata": {},
     "output_type": "execute_result"
    }
   ],
   "source": [],
   "metadata": {
    "collapsed": false,
    "pycharm": {
     "name": "#%%\n"
    }
   }
  },
  {
   "cell_type": "markdown",
   "metadata": {},
   "source": [
    "# test"
   ]
  },
  {
   "cell_type": "code",
   "execution_count": 202,
   "metadata": {},
   "outputs": [
    {
     "name": "stdout",
     "output_type": "stream",
     "text": [
      "[tensor([[[[-3.0039e-02,  3.5335e-02,  9.4463e-02,  ...,  4.6150e-02,\n",
      "           -1.8498e-02, -3.0265e-02],\n",
      "          [ 1.0431e-01,  7.5541e-02,  5.1028e-02,  ...,  4.7723e-02,\n",
      "            5.7007e-03, -2.6652e-02],\n",
      "          [-6.2745e-02,  1.8036e-02,  3.8646e-02,  ..., -2.9577e-02,\n",
      "            2.7292e-02, -6.6163e-03],\n",
      "          ...,\n",
      "          [ 4.5305e-02, -2.8770e-02, -7.1273e-02,  ...,  6.2624e-02,\n",
      "            9.7766e-02, -2.3828e-02],\n",
      "          [ 8.5962e-03, -6.8862e-02,  4.3901e-02,  ..., -3.5763e-02,\n",
      "            3.0148e-02,  4.3918e-02],\n",
      "          [ 3.0612e-02, -3.7550e-02, -9.7928e-03,  ...,  6.8905e-02,\n",
      "            4.0799e-02,  3.5339e-02]],\n",
      "\n",
      "         [[ 1.1667e-02,  3.7401e-02,  9.5108e-02,  ...,  6.0428e-02,\n",
      "            5.0679e-02, -4.4156e-02],\n",
      "          [ 9.1834e-02, -7.5532e-03,  6.6181e-02,  ...,  4.7314e-02,\n",
      "            2.6968e-02,  3.3652e-02],\n",
      "          [ 8.8658e-02,  1.0117e-01,  5.0792e-02,  ...,  2.7272e-02,\n",
      "            5.0776e-02,  8.0127e-02],\n",
      "          ...,\n",
      "          [-2.3854e-02,  3.1595e-02,  9.2631e-02,  ...,  7.6399e-02,\n",
      "            8.7864e-02, -5.0312e-02],\n",
      "          [ 2.0150e-02,  2.1973e-02,  6.2351e-02,  ...,  1.3714e-01,\n",
      "           -5.1125e-03,  7.3889e-02],\n",
      "          [ 1.0492e-01,  1.2170e-01, -1.1655e-02,  ...,  5.6090e-02,\n",
      "            1.5578e-01,  4.5049e-02]],\n",
      "\n",
      "         [[ 1.2488e-02,  5.0324e-02, -2.7268e-02,  ...,  2.5625e-02,\n",
      "           -5.9036e-02,  8.4030e-02],\n",
      "          [ 2.5710e-02, -1.0957e-02,  9.5447e-02,  ...,  9.4275e-02,\n",
      "            9.8901e-02,  1.4958e-03],\n",
      "          [-1.2842e-02,  7.6464e-02,  2.0069e-04,  ..., -4.7137e-03,\n",
      "            1.2806e-01,  4.1940e-02],\n",
      "          ...,\n",
      "          [ 3.8661e-02,  1.1141e-02,  1.1227e-02,  ...,  3.5048e-02,\n",
      "           -1.8573e-02,  6.5710e-02],\n",
      "          [ 2.4828e-02,  1.7178e-02,  2.2606e-02,  ...,  1.5306e-02,\n",
      "           -2.3104e-02,  7.4800e-02],\n",
      "          [-5.7459e-03,  3.9887e-02,  1.9950e-02,  ...,  2.5930e-02,\n",
      "            1.8029e-02,  1.0756e-01]],\n",
      "\n",
      "         ...,\n",
      "\n",
      "         [[ 7.1378e-02,  1.3645e-01,  7.4673e-02,  ...,  6.5047e-02,\n",
      "            7.0239e-02,  8.3788e-02],\n",
      "          [ 1.1233e-01,  1.4114e-01,  4.9078e-02,  ...,  1.3588e-01,\n",
      "            7.2056e-02,  4.6398e-02],\n",
      "          [ 8.7493e-02,  1.5959e-01,  1.4642e-01,  ...,  5.8323e-02,\n",
      "           -4.1998e-02,  6.6614e-02],\n",
      "          ...,\n",
      "          [ 9.1261e-02,  2.3474e-01,  1.1414e-01,  ...,  1.1282e-01,\n",
      "            1.7482e-01,  2.7283e-02],\n",
      "          [ 8.1240e-02,  2.9415e-02,  6.6749e-02,  ...,  1.3441e-01,\n",
      "            1.1779e-01,  3.3598e-03],\n",
      "          [ 8.5733e-02,  7.5681e-02,  1.4144e-01,  ...,  9.4288e-02,\n",
      "            1.5700e-02, -4.1490e-03]],\n",
      "\n",
      "         [[ 1.1489e-01, -7.4492e-03,  2.9315e-02,  ...,  1.3107e-01,\n",
      "           -1.1593e-02, -2.4273e-02],\n",
      "          [ 3.5096e-02,  6.6004e-02,  3.4298e-02,  ...,  4.6958e-02,\n",
      "            1.8580e-01,  3.9475e-02],\n",
      "          [ 8.0714e-02,  1.3251e-01,  1.8425e-01,  ...,  1.7412e-01,\n",
      "           -2.3218e-02,  1.6265e-01],\n",
      "          ...,\n",
      "          [ 1.4817e-02,  2.4219e-01,  6.0114e-02,  ...,  2.2461e-01,\n",
      "            3.1207e-02,  1.2562e-01],\n",
      "          [ 7.2452e-03,  2.1893e-02,  6.8264e-02,  ...,  6.8689e-02,\n",
      "            6.8172e-02,  7.1583e-02],\n",
      "          [ 1.0026e-01,  4.9986e-02,  7.8079e-02,  ...,  1.1670e-01,\n",
      "            5.0610e-02,  2.0247e-01]],\n",
      "\n",
      "         [[ 9.1216e-02,  1.8199e-01, -2.3671e-02,  ...,  1.0977e-01,\n",
      "           -9.0206e-02,  2.6095e-02],\n",
      "          [ 9.9600e-03,  4.1203e-02,  9.3505e-02,  ..., -2.2565e-02,\n",
      "            2.1709e-03,  7.1022e-02],\n",
      "          [-1.0781e-02,  9.5635e-02, -1.0300e-01,  ...,  2.0870e-02,\n",
      "            4.5703e-02,  5.4253e-02],\n",
      "          ...,\n",
      "          [ 1.1726e-01,  8.4505e-02,  2.3089e-02,  ...,  2.3416e-03,\n",
      "           -6.0516e-02, -8.2698e-02],\n",
      "          [ 1.8615e-01,  8.6082e-02,  4.0035e-02,  ...,  1.1794e-01,\n",
      "            2.1444e-03,  2.9909e-03],\n",
      "          [ 7.7453e-02,  6.7586e-02,  1.5750e-02,  ...,  3.0610e-02,\n",
      "            2.0131e-01,  1.3553e-02]]]]), tensor([[0.1667, 0.1667, 0.1667, 0.1667, 0.1667, 0.1667, 0.1667, 0.1667]],\n",
      "       dtype=torch.float64)]\n",
      "[tensor([[[[-3.9523e-02,  4.0640e-02,  3.7743e-02,  ..., -1.7797e-02,\n",
      "            2.1619e-02, -2.0833e-02],\n",
      "          [ 7.1025e-03,  4.5711e-02,  6.8453e-02,  ...,  7.8286e-03,\n",
      "            1.1897e-02, -5.7550e-03],\n",
      "          [ 7.0206e-03,  3.4348e-02,  3.8090e-02,  ...,  5.3080e-02,\n",
      "           -6.6299e-03, -3.4848e-02],\n",
      "          ...,\n",
      "          [ 2.4240e-02, -1.5522e-02, -1.2615e-02,  ...,  2.4752e-02,\n",
      "            1.4294e-02, -4.1987e-02],\n",
      "          [ 2.4619e-03,  3.3641e-02,  5.5917e-02,  ...,  5.9707e-02,\n",
      "           -4.6566e-02,  6.0206e-02],\n",
      "          [ 5.4616e-02, -9.0842e-02,  3.3834e-03,  ...,  3.7660e-02,\n",
      "           -8.3454e-04, -2.9406e-02]],\n",
      "\n",
      "         [[ 6.2251e-02,  6.0609e-02,  2.8237e-02,  ...,  5.4854e-02,\n",
      "            1.0145e-01, -8.0963e-03],\n",
      "          [-1.6754e-02,  7.3038e-03,  5.8800e-02,  ...,  9.3831e-03,\n",
      "            7.7244e-02, -1.1074e-01],\n",
      "          [ 4.9541e-02,  3.3848e-02,  2.9387e-02,  ...,  9.5908e-03,\n",
      "           -3.2429e-02,  5.8802e-02],\n",
      "          ...,\n",
      "          [-2.7194e-02,  9.5895e-03, -2.2305e-02,  ...,  2.1646e-02,\n",
      "           -1.0237e-04,  4.6383e-02],\n",
      "          [ 3.4200e-02,  3.5616e-02,  1.5669e-02,  ...,  3.0681e-02,\n",
      "            4.3100e-02,  4.1521e-02],\n",
      "          [-7.3135e-03,  1.3063e-02,  2.1151e-02,  ...,  5.5791e-02,\n",
      "            3.7860e-03, -5.6138e-03]],\n",
      "\n",
      "         [[ 5.4729e-02,  2.9582e-02, -4.8465e-03,  ..., -8.1301e-03,\n",
      "           -6.8118e-02,  1.4555e-02],\n",
      "          [-5.7355e-02,  2.4877e-02,  2.2537e-02,  ...,  5.7432e-02,\n",
      "           -3.1466e-02,  2.4248e-02],\n",
      "          [ 1.7328e-02,  2.3804e-02,  8.6849e-02,  ..., -6.9145e-03,\n",
      "            1.8126e-03,  8.2392e-02],\n",
      "          ...,\n",
      "          [ 3.1216e-02,  3.7476e-02, -2.8917e-02,  ...,  3.8162e-02,\n",
      "            3.6331e-02,  3.9129e-02],\n",
      "          [ 2.1327e-02, -1.5490e-02,  2.1369e-02,  ...,  6.9122e-02,\n",
      "            6.1583e-02,  6.1595e-02],\n",
      "          [ 1.2247e-01, -4.9129e-04, -3.5606e-03,  ...,  3.6788e-02,\n",
      "            1.1926e-01,  1.0575e-02]],\n",
      "\n",
      "         ...,\n",
      "\n",
      "         [[-1.4344e-01,  3.1024e-02, -6.2897e-02,  ..., -7.4483e-03,\n",
      "            2.5252e-01,  2.0299e-01],\n",
      "          [ 5.4333e-02, -4.6992e-03,  2.3450e-01,  ...,  1.2707e-01,\n",
      "           -7.3878e-02,  5.0750e-02],\n",
      "          [ 2.0189e-02, -5.0612e-03,  2.3887e-01,  ...,  7.8386e-02,\n",
      "            1.6114e-01,  2.0076e-02],\n",
      "          ...,\n",
      "          [ 1.6277e-02, -4.0133e-02,  3.7151e-02,  ...,  7.2928e-03,\n",
      "            1.0159e-01,  7.7545e-03],\n",
      "          [ 1.2374e-01,  1.9952e-01, -1.2894e-02,  ..., -1.0081e-02,\n",
      "            6.6515e-02,  2.9477e-02],\n",
      "          [ 4.0298e-02,  3.1130e-02, -6.2050e-02,  ...,  1.7073e-01,\n",
      "            1.1063e-01,  4.2591e-02]],\n",
      "\n",
      "         [[ 1.2720e-01,  1.0904e-01,  5.7506e-03,  ...,  9.5109e-02,\n",
      "            5.1896e-02,  1.3018e-01],\n",
      "          [ 1.8128e-01, -2.6663e-02,  2.1545e-01,  ..., -4.2650e-02,\n",
      "           -1.9830e-02,  1.0864e-01],\n",
      "          [-2.8452e-02,  7.7459e-02,  1.5090e-02,  ..., -1.5685e-03,\n",
      "            3.6093e-02,  3.3778e-02],\n",
      "          ...,\n",
      "          [ 4.8736e-02,  6.9459e-02, -3.0371e-02,  ...,  5.6376e-02,\n",
      "            2.6957e-02,  3.7562e-02],\n",
      "          [ 3.8442e-02, -1.0229e-01, -6.3019e-02,  ..., -2.2660e-02,\n",
      "            2.5303e-02, -3.4075e-02],\n",
      "          [ 1.2210e-01,  6.8344e-02, -3.6839e-02,  ...,  1.0604e-01,\n",
      "            9.5343e-02,  5.3458e-02]],\n",
      "\n",
      "         [[-6.6621e-02, -1.2174e-02,  1.2438e-01,  ...,  5.0519e-02,\n",
      "           -1.6110e-01, -3.8813e-02],\n",
      "          [ 8.8873e-02,  7.8380e-03,  1.1300e-01,  ..., -1.9533e-02,\n",
      "           -2.7099e-02,  1.5178e-02],\n",
      "          [-6.5566e-02,  8.9273e-02,  5.3099e-02,  ..., -2.2027e-02,\n",
      "           -1.5776e-02,  1.1826e-01],\n",
      "          ...,\n",
      "          [ 4.2127e-02,  2.3202e-02,  6.9715e-02,  ..., -5.1866e-03,\n",
      "           -3.3231e-02, -5.6507e-02],\n",
      "          [ 5.7024e-02, -6.2437e-02, -1.0156e-01,  ...,  3.8854e-02,\n",
      "            9.3348e-02,  4.2832e-02],\n",
      "          [ 2.2877e-02,  8.6758e-02, -5.1834e-02,  ...,  2.5471e-02,\n",
      "            1.9234e-02,  5.7967e-02]]]]), tensor([[0.1667, 0.1667, 0.1667, 0.1667, 0.1667, 0.1667, 0.1667, 0.1667]],\n",
      "       dtype=torch.float64)]\n",
      "[tensor([[[[ 8.7869e-03,  4.6890e-02, -1.9729e-02,  ...,  2.8433e-02,\n",
      "            2.7517e-02,  1.9098e-02],\n",
      "          [ 6.9492e-02,  4.1455e-02,  3.4663e-02,  ...,  2.7476e-02,\n",
      "            7.3648e-02,  2.9260e-02],\n",
      "          [ 1.5599e-02,  5.8734e-02,  3.9535e-02,  ...,  1.4433e-02,\n",
      "            4.7501e-02,  5.5212e-02],\n",
      "          ...,\n",
      "          [ 9.4557e-02,  5.9386e-02,  1.2676e-02,  ...,  6.4947e-02,\n",
      "            5.0763e-02,  4.8222e-02],\n",
      "          [-1.0656e-02,  4.5459e-02,  7.1336e-02,  ...,  2.3644e-02,\n",
      "            2.0544e-02, -1.2516e-02],\n",
      "          [ 6.0143e-02, -7.1972e-03,  4.6697e-02,  ..., -2.1316e-02,\n",
      "           -1.5290e-03,  3.0087e-02]],\n",
      "\n",
      "         [[ 5.0627e-02,  9.8803e-02,  8.5039e-02,  ...,  7.5885e-02,\n",
      "            8.2384e-02,  2.5110e-02],\n",
      "          [ 8.0029e-02, -3.3704e-02,  8.6664e-02,  ...,  4.3316e-02,\n",
      "            5.5146e-02,  1.6571e-02],\n",
      "          [ 1.8043e-03,  3.9677e-02,  1.4091e-01,  ...,  5.6924e-03,\n",
      "            5.0703e-02,  9.3013e-02],\n",
      "          ...,\n",
      "          [ 4.2069e-02,  5.8640e-02,  6.9666e-02,  ...,  6.5900e-02,\n",
      "            5.4214e-02,  6.3149e-02],\n",
      "          [ 3.0751e-02, -1.1719e-02,  4.9287e-02,  ...,  4.1758e-04,\n",
      "            5.9240e-02,  5.5412e-02],\n",
      "          [ 1.8051e-02,  5.1621e-02,  4.0004e-02,  ...,  3.0866e-02,\n",
      "            7.3047e-02,  1.9183e-02]],\n",
      "\n",
      "         [[ 3.6757e-02,  4.6468e-03,  8.6831e-02,  ..., -3.3177e-02,\n",
      "            1.6266e-02,  4.0984e-02],\n",
      "          [ 2.6507e-02,  4.8963e-02,  1.6137e-02,  ...,  4.7861e-02,\n",
      "            3.6577e-02,  5.3516e-02],\n",
      "          [ 6.7471e-02,  3.3734e-02,  5.3157e-02,  ...,  5.1404e-02,\n",
      "            5.3169e-02,  4.5379e-02],\n",
      "          ...,\n",
      "          [ 3.7067e-02,  3.8885e-02,  5.4429e-02,  ...,  2.1959e-02,\n",
      "            5.4552e-02,  7.2628e-02],\n",
      "          [ 4.9216e-02,  6.2287e-03,  6.6342e-02,  ...,  8.5132e-02,\n",
      "            3.9241e-02,  7.8951e-02],\n",
      "          [ 6.3053e-02,  4.8629e-02,  5.9038e-02,  ...,  4.3136e-02,\n",
      "            1.3117e-02,  6.1665e-02]],\n",
      "\n",
      "         ...,\n",
      "\n",
      "         [[-3.3426e-02,  1.0027e-01, -3.6274e-02,  ...,  9.0802e-02,\n",
      "            8.2784e-02,  1.4688e-01],\n",
      "          [ 1.1097e-01,  1.4878e-01,  7.7618e-02,  ..., -3.9765e-03,\n",
      "            1.1628e-01,  3.0333e-02],\n",
      "          [ 1.0333e-01,  2.4038e-03,  1.9896e-03,  ...,  8.8654e-02,\n",
      "            2.0717e-01,  8.5196e-02],\n",
      "          ...,\n",
      "          [ 6.9818e-02,  7.2795e-02,  1.8788e-01,  ..., -2.9061e-02,\n",
      "            4.4845e-02,  8.1693e-02],\n",
      "          [ 1.2614e-01, -2.3452e-02,  1.2822e-02,  ...,  1.5111e-01,\n",
      "            7.6196e-02,  5.3075e-02],\n",
      "          [ 9.6534e-02, -1.2732e-02,  8.5022e-02,  ...,  3.8807e-02,\n",
      "            8.6681e-02,  1.0806e-01]],\n",
      "\n",
      "         [[ 5.3253e-02, -3.9288e-03,  5.3602e-02,  ..., -5.1904e-02,\n",
      "            6.9629e-02,  1.4978e-01],\n",
      "          [ 1.6837e-01,  1.0207e-01, -2.6234e-02,  ...,  4.8969e-02,\n",
      "            8.5066e-02,  1.3708e-01],\n",
      "          [ 5.8140e-02,  5.9825e-06,  8.3371e-02,  ...,  1.6575e-01,\n",
      "            8.8498e-02,  1.2215e-01],\n",
      "          ...,\n",
      "          [ 1.9572e-01,  2.4728e-02,  1.1753e-01,  ...,  1.1071e-01,\n",
      "            8.4899e-02,  8.2809e-02],\n",
      "          [ 9.5373e-02,  1.1402e-01,  1.1507e-01,  ...,  7.9173e-02,\n",
      "            1.3566e-01,  1.0255e-01],\n",
      "          [ 1.2630e-01,  1.0580e-01,  1.5278e-01,  ...,  4.9376e-02,\n",
      "            3.1286e-02,  2.9740e-02]],\n",
      "\n",
      "         [[ 3.5118e-03,  1.0849e-01,  1.9406e-01,  ...,  1.6095e-01,\n",
      "            4.4863e-02, -3.5142e-02],\n",
      "          [ 5.8143e-02,  1.9412e-01,  2.7505e-02,  ..., -1.8601e-02,\n",
      "            1.6517e-02,  2.5792e-03],\n",
      "          [-5.9003e-02,  7.3377e-02,  1.5057e-01,  ...,  1.4668e-01,\n",
      "            3.1499e-02, -8.8539e-03],\n",
      "          ...,\n",
      "          [-2.3926e-02,  7.0826e-02,  1.1807e-01,  ...,  5.6514e-02,\n",
      "            8.6332e-02,  4.2148e-02],\n",
      "          [-7.4311e-02,  9.9031e-03,  8.4341e-02,  ..., -1.0505e-01,\n",
      "            6.2375e-02,  9.9664e-02],\n",
      "          [ 8.7156e-02,  3.9514e-02, -1.8746e-02,  ...,  1.7549e-01,\n",
      "            6.2243e-02,  5.9017e-02]]]]), tensor([[0.1667, 0.1667, 0.1667, 0.1667, 0.1667, 0.1667, 0.1667, 0.1667]],\n",
      "       dtype=torch.float64)]\n"
     ]
    },
    {
     "ename": "KeyboardInterrupt",
     "evalue": "",
     "output_type": "error",
     "traceback": [
      "\u001B[1;31m---------------------------------------------------------------------------\u001B[0m",
      "\u001B[1;31mKeyboardInterrupt\u001B[0m                         Traceback (most recent call last)",
      "\u001B[1;32m<ipython-input-202-0f1fa19d8665>\u001B[0m in \u001B[0;36m<module>\u001B[1;34m\u001B[0m\n\u001B[0;32m     65\u001B[0m                                num_workers=0, drop_last=True)\n\u001B[0;32m     66\u001B[0m \u001B[1;33m\u001B[0m\u001B[0m\n\u001B[1;32m---> 67\u001B[1;33m \u001B[1;32mfor\u001B[0m \u001B[0midx\u001B[0m\u001B[1;33m,\u001B[0m \u001B[0mimg\u001B[0m \u001B[1;32min\u001B[0m \u001B[0menumerate\u001B[0m\u001B[1;33m(\u001B[0m\u001B[0mtrain_loader\u001B[0m\u001B[1;33m)\u001B[0m\u001B[1;33m:\u001B[0m\u001B[1;33m\u001B[0m\u001B[1;33m\u001B[0m\u001B[0m\n\u001B[0m\u001B[0;32m     68\u001B[0m     \u001B[1;31m#do your training now\u001B[0m\u001B[1;33m\u001B[0m\u001B[1;33m\u001B[0m\u001B[1;33m\u001B[0m\u001B[0m\n\u001B[0;32m     69\u001B[0m     \u001B[0mprint\u001B[0m\u001B[1;33m(\u001B[0m\u001B[0mimg\u001B[0m\u001B[1;33m)\u001B[0m\u001B[1;33m\u001B[0m\u001B[1;33m\u001B[0m\u001B[0m\n",
      "\u001B[1;32m~\\AppData\\Local\\Continuum\\anaconda3\\envs\\pytorchenv\\lib\\site-packages\\torch\\utils\\data\\dataloader.py\u001B[0m in \u001B[0;36m__next__\u001B[1;34m(self)\u001B[0m\n\u001B[0;32m    558\u001B[0m         \u001B[1;32mif\u001B[0m \u001B[0mself\u001B[0m\u001B[1;33m.\u001B[0m\u001B[0mnum_workers\u001B[0m \u001B[1;33m==\u001B[0m \u001B[1;36m0\u001B[0m\u001B[1;33m:\u001B[0m  \u001B[1;31m# same-process loading\u001B[0m\u001B[1;33m\u001B[0m\u001B[1;33m\u001B[0m\u001B[0m\n\u001B[0;32m    559\u001B[0m             \u001B[0mindices\u001B[0m \u001B[1;33m=\u001B[0m \u001B[0mnext\u001B[0m\u001B[1;33m(\u001B[0m\u001B[0mself\u001B[0m\u001B[1;33m.\u001B[0m\u001B[0msample_iter\u001B[0m\u001B[1;33m)\u001B[0m  \u001B[1;31m# may raise StopIteration\u001B[0m\u001B[1;33m\u001B[0m\u001B[1;33m\u001B[0m\u001B[0m\n\u001B[1;32m--> 560\u001B[1;33m             \u001B[0mbatch\u001B[0m \u001B[1;33m=\u001B[0m \u001B[0mself\u001B[0m\u001B[1;33m.\u001B[0m\u001B[0mcollate_fn\u001B[0m\u001B[1;33m(\u001B[0m\u001B[1;33m[\u001B[0m\u001B[0mself\u001B[0m\u001B[1;33m.\u001B[0m\u001B[0mdataset\u001B[0m\u001B[1;33m[\u001B[0m\u001B[0mi\u001B[0m\u001B[1;33m]\u001B[0m \u001B[1;32mfor\u001B[0m \u001B[0mi\u001B[0m \u001B[1;32min\u001B[0m \u001B[0mindices\u001B[0m\u001B[1;33m]\u001B[0m\u001B[1;33m)\u001B[0m\u001B[1;33m\u001B[0m\u001B[1;33m\u001B[0m\u001B[0m\n\u001B[0m\u001B[0;32m    561\u001B[0m             \u001B[1;32mif\u001B[0m \u001B[0mself\u001B[0m\u001B[1;33m.\u001B[0m\u001B[0mpin_memory\u001B[0m\u001B[1;33m:\u001B[0m\u001B[1;33m\u001B[0m\u001B[1;33m\u001B[0m\u001B[0m\n\u001B[0;32m    562\u001B[0m                 \u001B[0mbatch\u001B[0m \u001B[1;33m=\u001B[0m \u001B[0m_utils\u001B[0m\u001B[1;33m.\u001B[0m\u001B[0mpin_memory\u001B[0m\u001B[1;33m.\u001B[0m\u001B[0mpin_memory_batch\u001B[0m\u001B[1;33m(\u001B[0m\u001B[0mbatch\u001B[0m\u001B[1;33m)\u001B[0m\u001B[1;33m\u001B[0m\u001B[1;33m\u001B[0m\u001B[0m\n",
      "\u001B[1;32m~\\AppData\\Local\\Continuum\\anaconda3\\envs\\pytorchenv\\lib\\site-packages\\torch\\utils\\data\\dataloader.py\u001B[0m in \u001B[0;36m<listcomp>\u001B[1;34m(.0)\u001B[0m\n\u001B[0;32m    558\u001B[0m         \u001B[1;32mif\u001B[0m \u001B[0mself\u001B[0m\u001B[1;33m.\u001B[0m\u001B[0mnum_workers\u001B[0m \u001B[1;33m==\u001B[0m \u001B[1;36m0\u001B[0m\u001B[1;33m:\u001B[0m  \u001B[1;31m# same-process loading\u001B[0m\u001B[1;33m\u001B[0m\u001B[1;33m\u001B[0m\u001B[0m\n\u001B[0;32m    559\u001B[0m             \u001B[0mindices\u001B[0m \u001B[1;33m=\u001B[0m \u001B[0mnext\u001B[0m\u001B[1;33m(\u001B[0m\u001B[0mself\u001B[0m\u001B[1;33m.\u001B[0m\u001B[0msample_iter\u001B[0m\u001B[1;33m)\u001B[0m  \u001B[1;31m# may raise StopIteration\u001B[0m\u001B[1;33m\u001B[0m\u001B[1;33m\u001B[0m\u001B[0m\n\u001B[1;32m--> 560\u001B[1;33m             \u001B[0mbatch\u001B[0m \u001B[1;33m=\u001B[0m \u001B[0mself\u001B[0m\u001B[1;33m.\u001B[0m\u001B[0mcollate_fn\u001B[0m\u001B[1;33m(\u001B[0m\u001B[1;33m[\u001B[0m\u001B[0mself\u001B[0m\u001B[1;33m.\u001B[0m\u001B[0mdataset\u001B[0m\u001B[1;33m[\u001B[0m\u001B[0mi\u001B[0m\u001B[1;33m]\u001B[0m \u001B[1;32mfor\u001B[0m \u001B[0mi\u001B[0m \u001B[1;32min\u001B[0m \u001B[0mindices\u001B[0m\u001B[1;33m]\u001B[0m\u001B[1;33m)\u001B[0m\u001B[1;33m\u001B[0m\u001B[1;33m\u001B[0m\u001B[0m\n\u001B[0m\u001B[0;32m    561\u001B[0m             \u001B[1;32mif\u001B[0m \u001B[0mself\u001B[0m\u001B[1;33m.\u001B[0m\u001B[0mpin_memory\u001B[0m\u001B[1;33m:\u001B[0m\u001B[1;33m\u001B[0m\u001B[1;33m\u001B[0m\u001B[0m\n\u001B[0;32m    562\u001B[0m                 \u001B[0mbatch\u001B[0m \u001B[1;33m=\u001B[0m \u001B[0m_utils\u001B[0m\u001B[1;33m.\u001B[0m\u001B[0mpin_memory\u001B[0m\u001B[1;33m.\u001B[0m\u001B[0mpin_memory_batch\u001B[0m\u001B[1;33m(\u001B[0m\u001B[0mbatch\u001B[0m\u001B[1;33m)\u001B[0m\u001B[1;33m\u001B[0m\u001B[1;33m\u001B[0m\u001B[0m\n",
      "\u001B[1;32m<ipython-input-202-0f1fa19d8665>\u001B[0m in \u001B[0;36m__getitem__\u001B[1;34m(self, idx)\u001B[0m\n\u001B[0;32m     36\u001B[0m         \u001B[1;32mfor\u001B[0m \u001B[0mch\u001B[0m \u001B[1;32min\u001B[0m \u001B[0mrange\u001B[0m\u001B[1;33m(\u001B[0m\u001B[0mfinal_image\u001B[0m\u001B[1;33m.\u001B[0m\u001B[0mshape\u001B[0m\u001B[1;33m[\u001B[0m\u001B[1;36m2\u001B[0m\u001B[1;33m]\u001B[0m\u001B[1;33m)\u001B[0m\u001B[1;33m:\u001B[0m\u001B[1;33m\u001B[0m\u001B[1;33m\u001B[0m\u001B[0m\n\u001B[0;32m     37\u001B[0m             \u001B[0mrandom\u001B[0m\u001B[1;33m.\u001B[0m\u001B[0mseed\u001B[0m\u001B[1;33m(\u001B[0m\u001B[0mseed\u001B[0m\u001B[1;33m)\u001B[0m\u001B[1;33m\u001B[0m\u001B[1;33m\u001B[0m\u001B[0m\n\u001B[1;32m---> 38\u001B[1;33m             \u001B[0mx\u001B[0m\u001B[1;33m.\u001B[0m\u001B[0mappend\u001B[0m\u001B[1;33m(\u001B[0m\u001B[0mtransform\u001B[0m\u001B[1;33m(\u001B[0m\u001B[0mImage\u001B[0m\u001B[1;33m.\u001B[0m\u001B[0mfromarray\u001B[0m\u001B[1;33m(\u001B[0m\u001B[0mfinal_image\u001B[0m\u001B[1;33m[\u001B[0m\u001B[1;33m:\u001B[0m\u001B[1;33m,\u001B[0m \u001B[1;33m:\u001B[0m\u001B[1;33m,\u001B[0m \u001B[0mch\u001B[0m\u001B[1;33m]\u001B[0m\u001B[1;33m)\u001B[0m\u001B[1;33m)\u001B[0m\u001B[1;33m)\u001B[0m\u001B[1;33m\u001B[0m\u001B[1;33m\u001B[0m\u001B[0m\n\u001B[0m\u001B[0;32m     39\u001B[0m         \u001B[1;31m#this is the multichannel transformed image (a torch tensor)\u001B[0m\u001B[1;33m\u001B[0m\u001B[1;33m\u001B[0m\u001B[1;33m\u001B[0m\u001B[0m\n\u001B[0;32m     40\u001B[0m         \u001B[0mimg_tfm\u001B[0m \u001B[1;33m=\u001B[0m \u001B[0mtorch\u001B[0m\u001B[1;33m.\u001B[0m\u001B[0mcat\u001B[0m\u001B[1;33m(\u001B[0m\u001B[0mx\u001B[0m\u001B[1;33m)\u001B[0m\u001B[1;33m\u001B[0m\u001B[1;33m\u001B[0m\u001B[0m\n",
      "\u001B[1;32m~\\AppData\\Local\\Continuum\\anaconda3\\envs\\pytorchenv\\lib\\site-packages\\PIL\\Image.py\u001B[0m in \u001B[0;36mfromarray\u001B[1;34m(obj, mode)\u001B[0m\n\u001B[0;32m   2534\u001B[0m             \u001B[0mobj\u001B[0m \u001B[1;33m=\u001B[0m \u001B[0mobj\u001B[0m\u001B[1;33m.\u001B[0m\u001B[0mtostring\u001B[0m\u001B[1;33m(\u001B[0m\u001B[1;33m)\u001B[0m\u001B[1;33m\u001B[0m\u001B[1;33m\u001B[0m\u001B[0m\n\u001B[0;32m   2535\u001B[0m \u001B[1;33m\u001B[0m\u001B[0m\n\u001B[1;32m-> 2536\u001B[1;33m     \u001B[1;32mreturn\u001B[0m \u001B[0mfrombuffer\u001B[0m\u001B[1;33m(\u001B[0m\u001B[0mmode\u001B[0m\u001B[1;33m,\u001B[0m \u001B[0msize\u001B[0m\u001B[1;33m,\u001B[0m \u001B[0mobj\u001B[0m\u001B[1;33m,\u001B[0m \u001B[1;34m\"raw\"\u001B[0m\u001B[1;33m,\u001B[0m \u001B[0mrawmode\u001B[0m\u001B[1;33m,\u001B[0m \u001B[1;36m0\u001B[0m\u001B[1;33m,\u001B[0m \u001B[1;36m1\u001B[0m\u001B[1;33m)\u001B[0m\u001B[1;33m\u001B[0m\u001B[1;33m\u001B[0m\u001B[0m\n\u001B[0m\u001B[0;32m   2537\u001B[0m \u001B[1;33m\u001B[0m\u001B[0m\n\u001B[0;32m   2538\u001B[0m \u001B[1;33m\u001B[0m\u001B[0m\n",
      "\u001B[1;31mKeyboardInterrupt\u001B[0m: "
     ]
    }
   ],
   "source": [
    "class CustomDataSet(Dataset):\n",
    "    def __init__(self, main_dir, image_dir, no_background_dir, no_background_imgdir, transform, is_resize, img_list):\n",
    "        self.main_dir = main_dir\n",
    "        self.image_dir = image_dir\n",
    "        self.no_background_dir = no_background_dir\n",
    "        self.no_background_imgdir = no_background_imgdir\n",
    "        self.transform = transform\n",
    "        self.is_resize = is_resize\n",
    "        self.labels = img_list['label']\n",
    "        self.total_imgs = img_list['img']    #natsort.natsorted(img_list['img'])\n",
    "        self.list_IDs = img_list.index\n",
    "\n",
    "    def __len__(self):\n",
    "        return len(self.total_imgs)\n",
    "\n",
    "    def __getitem__(self, idx):\n",
    "        ID = self.list_IDs[idx]\n",
    "        if self.is_resize:\n",
    "            hdr_loc = os.path.join(self.no_background_dir, self.total_imgs[ID].replace(\"resized\", \"no_note\"))\n",
    "            img_loc = os.path.join(self.no_background_imgdir, self.total_imgs[ID].replace(\"resized.hdr\", \"no_note.img\"))\n",
    "            image = envi.open(hdr_loc, img_loc)\n",
    "            resized = resize(image, size)\n",
    "            \"\"\"get mean and std from top 2 rows for background\"\"\"\n",
    "            mean = np.median(image[:, 0:1, :], axis=(0, 1))  # median for every band\n",
    "            black_std = np.std(image[:, 0:1, :], axis=(0, 1))\n",
    "            final_image = pad_img(resized, size, mean, black_std, img)\n",
    "        else:\n",
    "            hdr_loc = os.path.join(self.main_dir, self.total_imgs[ID])\n",
    "            img_loc = os.path.join(self.image_dir, self.total_imgs[ID].replace(\".hdr\", \".img\"))\n",
    "            image = envi.open(hdr_loc, img_loc)\n",
    "            final_image = np.zeros((image.shape[0], image.shape[1], image.shape[2]))\n",
    "            final_image[:, :, :] = image[:, :, :]\n",
    "        x=[]\n",
    "        #set a seed so the same transforms are applied to each channel\n",
    "        seed = np.random.randint(2147483647)\n",
    "        for ch in range(final_image.shape[2]):\n",
    "            random.seed(seed)\n",
    "            x.append(transform(Image.fromarray(final_image[:, :, ch])))\n",
    "        #this is the multichannel transformed image (a torch tensor)\n",
    "        img_tfm = torch.cat(x)\n",
    "        y = self.labels[ID].values\n",
    "        # print(y)\n",
    "        return img_tfm, y\n",
    "\n",
    "storage_path = \"D:/My Drive/StoragePath\"\n",
    "result_path = storage_path + \"/ExpResults/tal_exp_results\"\n",
    "resized_path = result_path + \"/resized\"\n",
    "resized_img_path = result_path + \"/resizes_img\"\n",
    "no_note_path = result_path + \"/no_note_background\"\n",
    "no_note_img_path = result_path + \"/no_note_background_img\"\n",
    "\n",
    "tfms = transforms.Compose([transforms.RandomHorizontalFlip(),\n",
    "                   transforms.ToTensor()])\n",
    "\n",
    "train_dataset = CustomDataSet(resized_path, resized_img_path, no_note_path, no_note_img_path, transform=tfms, is_resize=False, img_list = df_train)\n",
    "val_dataset = CustomDataSet(resized_path, resized_img_path, no_note_path, no_note_img_path, transform=tfms, is_resize=False, img_list = df_val)\n",
    "test_dataset = CustomDataSet(resized_path, resized_img_path, no_note_path, no_note_img_path, transform=tfms, is_resize=False, img_list = df_test)\n",
    "# x, y = random_split(my_dataset, [20, 9])\n",
    "\n",
    "train_loader = DataLoader(train_dataset , batch_size=1, shuffle=False, \n",
    "                               num_workers=0, drop_last=True)\n",
    "val_loader = DataLoader(val_dataset , batch_size=1, shuffle=False, \n",
    "                               num_workers=0, drop_last=True)\n",
    "test_loader = DataLoader(test_dataset , batch_size=1, shuffle=False, \n",
    "                               num_workers=0, drop_last=True)\n",
    "\n",
    "for idx, img in enumerate(train_loader):\n",
    "    #do your training now\n",
    "    print(img)"
   ]
  },
  {
   "cell_type": "code",
   "execution_count": 191,
   "metadata": {},
   "outputs": [],
   "source": [
    "y = df['label'][0].values"
   ]
  },
  {
   "cell_type": "code",
   "execution_count": 192,
   "metadata": {},
   "outputs": [
    {
     "data": {
      "text/plain": [
       "array([0.16666667, 0.16666667, 0.16666667, 0.16666667, 0.16666667,\n",
       "       0.16666667, 0.16666667, 0.16666667])"
      ]
     },
     "execution_count": 192,
     "metadata": {},
     "output_type": "execute_result"
    }
   ],
   "source": [
    "y"
   ]
  },
  {
   "cell_type": "code",
   "execution_count": null,
   "metadata": {},
   "outputs": [],
   "source": []
  },
  {
   "cell_type": "code",
   "execution_count": 198,
   "metadata": {},
   "outputs": [
    {
     "data": {
      "text/html": [
       "<div>\n",
       "<style scoped>\n",
       "    .dataframe tbody tr th:only-of-type {\n",
       "        vertical-align: middle;\n",
       "    }\n",
       "\n",
       "    .dataframe tbody tr th {\n",
       "        vertical-align: top;\n",
       "    }\n",
       "\n",
       "    .dataframe thead th {\n",
       "        text-align: right;\n",
       "    }\n",
       "</style>\n",
       "<table border=\"1\" class=\"dataframe\">\n",
       "  <thead>\n",
       "    <tr style=\"text-align: right;\">\n",
       "      <th></th>\n",
       "      <th>img</th>\n",
       "      <th>label</th>\n",
       "      <th>group</th>\n",
       "    </tr>\n",
       "  </thead>\n",
       "  <tbody>\n",
       "    <tr>\n",
       "      <th>20</th>\n",
       "      <td>Corn_plot16_2019-12-22_08-13-38_resized.hdr</td>\n",
       "      <td>necrosis                            0.166667\n",
       "B...</td>\n",
       "      <td>0.0</td>\n",
       "    </tr>\n",
       "    <tr>\n",
       "      <th>0</th>\n",
       "      <td>Corn_plot100_2019-12-22_09-25-00_resized.hdr</td>\n",
       "      <td>necrosis                            0.166667\n",
       "B...</td>\n",
       "      <td>0.0</td>\n",
       "    </tr>\n",
       "    <tr>\n",
       "      <th>26</th>\n",
       "      <td>Corn_plot18_2019-12-22_08-14-58_resized.hdr</td>\n",
       "      <td>necrosis                            0.166667\n",
       "B...</td>\n",
       "      <td>0.0</td>\n",
       "    </tr>\n",
       "    <tr>\n",
       "      <th>13</th>\n",
       "      <td>Corn_plot13_2019-12-29_10-55-31_resized.hdr</td>\n",
       "      <td>necrosis                            0.166667\n",
       "B...</td>\n",
       "      <td>0.0</td>\n",
       "    </tr>\n",
       "    <tr>\n",
       "      <th>18</th>\n",
       "      <td>Corn_plot15_2019-12-24_08-33-17_resized.hdr</td>\n",
       "      <td>necrosis                            0.166667\n",
       "B...</td>\n",
       "      <td>0.0</td>\n",
       "    </tr>\n",
       "    <tr>\n",
       "      <th>3</th>\n",
       "      <td>Corn_plot10_2019-12-22_08-08-30_resized.hdr</td>\n",
       "      <td>necrosis                            0.166667\n",
       "B...</td>\n",
       "      <td>0.0</td>\n",
       "    </tr>\n",
       "    <tr>\n",
       "      <th>10</th>\n",
       "      <td>Corn_plot12_2019-12-24_08-30-45_resized.hdr</td>\n",
       "      <td>necrosis                            0.166667\n",
       "B...</td>\n",
       "      <td>0.0</td>\n",
       "    </tr>\n",
       "    <tr>\n",
       "      <th>17</th>\n",
       "      <td>Corn_plot15_2019-12-22_08-12-38_resized.hdr</td>\n",
       "      <td>necrosis                            0.166667\n",
       "B...</td>\n",
       "      <td>0.0</td>\n",
       "    </tr>\n",
       "    <tr>\n",
       "      <th>12</th>\n",
       "      <td>Corn_plot13_2019-12-22_08-11-20_resized.hdr</td>\n",
       "      <td>necrosis                            0.166667\n",
       "B...</td>\n",
       "      <td>0.0</td>\n",
       "    </tr>\n",
       "    <tr>\n",
       "      <th>1</th>\n",
       "      <td>Corn_plot100_2019-12-24_09-34-05_resized.hdr</td>\n",
       "      <td>necrosis                            0.166667\n",
       "B...</td>\n",
       "      <td>0.0</td>\n",
       "    </tr>\n",
       "    <tr>\n",
       "      <th>15</th>\n",
       "      <td>Corn_plot14_2019-12-24_08-31-32_resized.hdr</td>\n",
       "      <td>necrosis                            0.166667\n",
       "B...</td>\n",
       "      <td>0.0</td>\n",
       "    </tr>\n",
       "    <tr>\n",
       "      <th>9</th>\n",
       "      <td>Corn_plot12_2019-12-22_08-10-41_resized.hdr</td>\n",
       "      <td>necrosis                            0.166667\n",
       "B...</td>\n",
       "      <td>0.0</td>\n",
       "    </tr>\n",
       "    <tr>\n",
       "      <th>8</th>\n",
       "      <td>Corn_plot11_2019-12-29_09-20-08_resized.hdr</td>\n",
       "      <td>necrosis                            0.333333\n",
       "B...</td>\n",
       "      <td>1.0</td>\n",
       "    </tr>\n",
       "    <tr>\n",
       "      <th>28</th>\n",
       "      <td>Corn_plot18_2019-12-29_09-26-43_resized.hdr</td>\n",
       "      <td>necrosis                            0.333333\n",
       "B...</td>\n",
       "      <td>1.0</td>\n",
       "    </tr>\n",
       "    <tr>\n",
       "      <th>22</th>\n",
       "      <td>Corn_plot16_2019-12-29_09-24-37_resized.hdr</td>\n",
       "      <td>necrosis                            0.166667\n",
       "B...</td>\n",
       "      <td>2.0</td>\n",
       "    </tr>\n",
       "    <tr>\n",
       "      <th>5</th>\n",
       "      <td>Corn_plot10_2019-12-29_09-19-07_resized.hdr</td>\n",
       "      <td>necrosis                            0.166667\n",
       "B...</td>\n",
       "      <td>3.0</td>\n",
       "    </tr>\n",
       "    <tr>\n",
       "      <th>19</th>\n",
       "      <td>Corn_plot15_2019-12-29_09-23-36_resized.hdr</td>\n",
       "      <td>necrosis                            0.166667\n",
       "B...</td>\n",
       "      <td>3.0</td>\n",
       "    </tr>\n",
       "    <tr>\n",
       "      <th>16</th>\n",
       "      <td>Corn_plot14_2019-12-29_09-22-20_resized.hdr</td>\n",
       "      <td>necrosis                            0.166667\n",
       "B...</td>\n",
       "      <td>6.0</td>\n",
       "    </tr>\n",
       "  </tbody>\n",
       "</table>\n",
       "</div>"
      ],
      "text/plain": [
       "                                             img  \\\n",
       "20   Corn_plot16_2019-12-22_08-13-38_resized.hdr   \n",
       "0   Corn_plot100_2019-12-22_09-25-00_resized.hdr   \n",
       "26   Corn_plot18_2019-12-22_08-14-58_resized.hdr   \n",
       "13   Corn_plot13_2019-12-29_10-55-31_resized.hdr   \n",
       "18   Corn_plot15_2019-12-24_08-33-17_resized.hdr   \n",
       "3    Corn_plot10_2019-12-22_08-08-30_resized.hdr   \n",
       "10   Corn_plot12_2019-12-24_08-30-45_resized.hdr   \n",
       "17   Corn_plot15_2019-12-22_08-12-38_resized.hdr   \n",
       "12   Corn_plot13_2019-12-22_08-11-20_resized.hdr   \n",
       "1   Corn_plot100_2019-12-24_09-34-05_resized.hdr   \n",
       "15   Corn_plot14_2019-12-24_08-31-32_resized.hdr   \n",
       "9    Corn_plot12_2019-12-22_08-10-41_resized.hdr   \n",
       "8    Corn_plot11_2019-12-29_09-20-08_resized.hdr   \n",
       "28   Corn_plot18_2019-12-29_09-26-43_resized.hdr   \n",
       "22   Corn_plot16_2019-12-29_09-24-37_resized.hdr   \n",
       "5    Corn_plot10_2019-12-29_09-19-07_resized.hdr   \n",
       "19   Corn_plot15_2019-12-29_09-23-36_resized.hdr   \n",
       "16   Corn_plot14_2019-12-29_09-22-20_resized.hdr   \n",
       "\n",
       "                                                label  group  \n",
       "20  necrosis                            0.166667\n",
       "B...    0.0  \n",
       "0   necrosis                            0.166667\n",
       "B...    0.0  \n",
       "26  necrosis                            0.166667\n",
       "B...    0.0  \n",
       "13  necrosis                            0.166667\n",
       "B...    0.0  \n",
       "18  necrosis                            0.166667\n",
       "B...    0.0  \n",
       "3   necrosis                            0.166667\n",
       "B...    0.0  \n",
       "10  necrosis                            0.166667\n",
       "B...    0.0  \n",
       "17  necrosis                            0.166667\n",
       "B...    0.0  \n",
       "12  necrosis                            0.166667\n",
       "B...    0.0  \n",
       "1   necrosis                            0.166667\n",
       "B...    0.0  \n",
       "15  necrosis                            0.166667\n",
       "B...    0.0  \n",
       "9   necrosis                            0.166667\n",
       "B...    0.0  \n",
       "8   necrosis                            0.333333\n",
       "B...    1.0  \n",
       "28  necrosis                            0.333333\n",
       "B...    1.0  \n",
       "22  necrosis                            0.166667\n",
       "B...    2.0  \n",
       "5   necrosis                            0.166667\n",
       "B...    3.0  \n",
       "19  necrosis                            0.166667\n",
       "B...    3.0  \n",
       "16  necrosis                            0.166667\n",
       "B...    6.0  "
      ]
     },
     "execution_count": 198,
     "metadata": {},
     "output_type": "execute_result"
    }
   ],
   "source": [
    "train_dataset.img_list"
   ]
  },
  {
   "cell_type": "code",
   "execution_count": 174,
   "metadata": {},
   "outputs": [
    {
     "name": "stdout",
     "output_type": "stream",
     "text": [
      "730\n",
      "0\n",
      "730\n",
      "1\n",
      "730\n",
      "2\n",
      "730\n",
      "3\n",
      "730\n",
      "4\n",
      "730\n",
      "5\n",
      "730\n",
      "6\n",
      "730\n",
      "7\n",
      "730\n",
      "8\n",
      "730\n",
      "9\n",
      "730\n",
      "10\n",
      "730\n",
      "11\n",
      "730\n",
      "12\n",
      "730\n",
      "13\n",
      "730\n",
      "14\n",
      "730\n",
      "15\n",
      "730\n",
      "16\n",
      "730\n",
      "17\n"
     ]
    }
   ],
   "source": [
    "for idx, img in enumerate(train_loader):\n",
    "    #do your training now\n",
    "    print(idx)"
   ]
  },
  {
   "cell_type": "code",
   "execution_count": null,
   "metadata": {},
   "outputs": [],
   "source": []
  },
  {
   "cell_type": "code",
   "execution_count": null,
   "metadata": {},
   "outputs": [],
   "source": []
  },
  {
   "cell_type": "code",
   "execution_count": 92,
   "metadata": {},
   "outputs": [],
   "source": [
    "storage_path = \"D:/My Drive/StoragePath\"\n",
    "result_path = storage_path + \"/ExpResults/tal_exp_results\"\n",
    "resized_path = result_path + \"/resized\"\n",
    "resized_img_path = result_path + \"/resizes_img\"\n",
    "is_resize = False\n",
    "label_rank = 6\n",
    "total_phenotypes = 8\n",
    "data_set_path = storage_path + \"/Datasets/tal_datesets/corn_data_set\"\n",
    "labels_df = pd.read_csv(f\"{result_path}/results/phenotyping_with_groups_sparse.csv\")\n",
    "total_img = 28\n"
   ]
  },
  {
   "cell_type": "code",
   "execution_count": 160,
   "metadata": {},
   "outputs": [],
   "source": [
    "def get_data_new(path, resized_path):\n",
    "    \"\"\"\n",
    "    :param path: data path\n",
    "    :param size: width and length of images (tuple)\n",
    "    :return:  dictionary of np.arrays of images and labels\n",
    "    \"\"\"\n",
    "    img_list = []\n",
    "    label_list = []\n",
    "    group_list = []\n",
    "    print(\"Getting data from source...\")\n",
    "\n",
    "    if not is_resize:\n",
    "        dir_list = os.listdir(resized_path)\n",
    "    else:\n",
    "        dir_list = os.listdir(path)\n",
    "    for i, img in enumerate(dir_list):\n",
    "        if i > total_img:\n",
    "            break\n",
    "        if \".img\" in img or \"2019-12-25\" in img:\n",
    "            continue\n",
    "        img_list.append(img)\n",
    "        labels, group = get_labels(img)\n",
    "        label_list.append(labels)\n",
    "        group_list.append(group)\n",
    "\n",
    "    \"\"\"split into groups\"\"\"\n",
    "    df = pd.DataFrame(\n",
    "        {'img': img_list,\n",
    "         'label': label_list,\n",
    "         'group': group_list\n",
    "         })\n",
    "    df['label'] = df['label'] / label_rank\n",
    "    df_train = pd.DataFrame(\n",
    "        columns=['img', 'label', 'group'])\n",
    "    df_val = pd.DataFrame(\n",
    "        columns=['img', 'label', 'group'])\n",
    "    df_test = pd.DataFrame(\n",
    "        columns=['img', 'label', 'group'])\n",
    "\n",
    "    for phenotype in range(total_phenotypes - 1):\n",
    "        df_phenotype = df[df['group'] == phenotype]\n",
    "        train_df_phenotype = df_phenotype.sample(frac = 0.6)\n",
    "        val_test_df_phenotype = df_phenotype.drop(train_df_phenotype.index)\n",
    "        test_df_phenotype = val_test_df_phenotype.sample(frac = 0.5)\n",
    "        val_df_phenotype = val_test_df_phenotype.drop(test_df_phenotype.index)\n",
    "        df_train = df_train.append(train_df_phenotype)\n",
    "        df_val = df_val.append(val_df_phenotype)\n",
    "        df_test = df_test.append(test_df_phenotype)\n",
    "    print(\"Getting data done.\")\n",
    "\n",
    "    return df_train, df_val, df_test"
   ]
  },
  {
   "cell_type": "code",
   "execution_count": 151,
   "metadata": {},
   "outputs": [
    {
     "name": "stdout",
     "output_type": "stream",
     "text": [
      "Getting data from source...\n"
     ]
    }
   ],
   "source": [
    "img_list = []\n",
    "label_list = []\n",
    "group_list = []\n",
    "print(\"Getting data from source...\")\n",
    "\n",
    "if not is_resize:\n",
    "    dir_list = os.listdir(resized_path)\n",
    "else:\n",
    "    dir_list = os.listdir(path)\n",
    "for i, img in enumerate(dir_list):\n",
    "    if i > total_img:\n",
    "        break\n",
    "    if \".img\" in img or \"2019-12-25\" in img:\n",
    "        continue\n",
    "    img_list.append(img)\n",
    "    labels, group = get_labels(img)\n",
    "    label_list.append(labels)\n",
    "    group_list.append(group)"
   ]
  },
  {
   "cell_type": "code",
   "execution_count": 157,
   "metadata": {},
   "outputs": [],
   "source": [
    "    df = pd.DataFrame(\n",
    "        {'img': img_list,\n",
    "         'label': label_list,\n",
    "         'group': group_list\n",
    "         })\n",
    "    df['label'] = df['label'] / label_rank\n",
    "    df_train = pd.DataFrame(\n",
    "        columns=['img', 'label', 'group'])\n",
    "    df_val = pd.DataFrame(\n",
    "        columns=['img', 'label', 'group'])\n",
    "    df_test = pd.DataFrame(\n",
    "        columns=['img', 'label', 'group'])"
   ]
  },
  {
   "cell_type": "code",
   "execution_count": 158,
   "metadata": {},
   "outputs": [
    {
     "name": "stdout",
     "output_type": "stream",
     "text": [
      "Getting data done.\n"
     ]
    }
   ],
   "source": [
    "    for phenotype in range(total_phenotypes - 1):\n",
    "        df_phenotype = df[df['group'] == phenotype]\n",
    "        train_df_phenotype = df_phenotype.sample(frac = 0.6)\n",
    "        val_test_df_phenotype = df_phenotype.drop(train_df_phenotype.index)\n",
    "        test_df_phenotype = val_test_df_phenotype.sample(frac = 0.5)\n",
    "        val_df_phenotype = val_test_df_phenotype.drop(test_df_phenotype.index)\n",
    "        df_train = df_train.append(train_df_phenotype)\n",
    "        df_val = df_val.append(val_df_phenotype)\n",
    "        df_test = df_test.append(test_df_phenotype)\n",
    "    print(\"Getting data done.\")"
   ]
  },
  {
   "cell_type": "code",
   "execution_count": 159,
   "metadata": {},
   "outputs": [
    {
     "data": {
      "text/html": [
       "<div>\n",
       "<style scoped>\n",
       "    .dataframe tbody tr th:only-of-type {\n",
       "        vertical-align: middle;\n",
       "    }\n",
       "\n",
       "    .dataframe tbody tr th {\n",
       "        vertical-align: top;\n",
       "    }\n",
       "\n",
       "    .dataframe thead th {\n",
       "        text-align: right;\n",
       "    }\n",
       "</style>\n",
       "<table border=\"1\" class=\"dataframe\">\n",
       "  <thead>\n",
       "    <tr style=\"text-align: right;\">\n",
       "      <th></th>\n",
       "      <th>img</th>\n",
       "      <th>label</th>\n",
       "      <th>group</th>\n",
       "    </tr>\n",
       "  </thead>\n",
       "  <tbody>\n",
       "    <tr>\n",
       "      <th>3</th>\n",
       "      <td>Corn_plot10_2019-12-22_08-08-30_resized.hdr</td>\n",
       "      <td>necrosis                            0.166667\n",
       "B...</td>\n",
       "      <td>0.0</td>\n",
       "    </tr>\n",
       "    <tr>\n",
       "      <th>6</th>\n",
       "      <td>Corn_plot11_2019-12-22_08-09-57_resized.hdr</td>\n",
       "      <td>necrosis                            0.166667\n",
       "B...</td>\n",
       "      <td>0.0</td>\n",
       "    </tr>\n",
       "    <tr>\n",
       "      <th>9</th>\n",
       "      <td>Corn_plot12_2019-12-22_08-10-41_resized.hdr</td>\n",
       "      <td>necrosis                            0.166667\n",
       "B...</td>\n",
       "      <td>0.0</td>\n",
       "    </tr>\n",
       "    <tr>\n",
       "      <th>18</th>\n",
       "      <td>Corn_plot15_2019-12-24_08-33-17_resized.hdr</td>\n",
       "      <td>necrosis                            0.166667\n",
       "B...</td>\n",
       "      <td>0.0</td>\n",
       "    </tr>\n",
       "    <tr>\n",
       "      <th>25</th>\n",
       "      <td>Corn_plot17_2019-12-29_09-25-43_resized.hdr</td>\n",
       "      <td>necrosis                            0.333333\n",
       "B...</td>\n",
       "      <td>1.0</td>\n",
       "    </tr>\n",
       "    <tr>\n",
       "      <th>5</th>\n",
       "      <td>Corn_plot10_2019-12-29_09-19-07_resized.hdr</td>\n",
       "      <td>necrosis                            0.166667\n",
       "B...</td>\n",
       "      <td>3.0</td>\n",
       "    </tr>\n",
       "  </tbody>\n",
       "</table>\n",
       "</div>"
      ],
      "text/plain": [
       "                                            img  \\\n",
       "3   Corn_plot10_2019-12-22_08-08-30_resized.hdr   \n",
       "6   Corn_plot11_2019-12-22_08-09-57_resized.hdr   \n",
       "9   Corn_plot12_2019-12-22_08-10-41_resized.hdr   \n",
       "18  Corn_plot15_2019-12-24_08-33-17_resized.hdr   \n",
       "25  Corn_plot17_2019-12-29_09-25-43_resized.hdr   \n",
       "5   Corn_plot10_2019-12-29_09-19-07_resized.hdr   \n",
       "\n",
       "                                                label  group  \n",
       "3   necrosis                            0.166667\n",
       "B...    0.0  \n",
       "6   necrosis                            0.166667\n",
       "B...    0.0  \n",
       "9   necrosis                            0.166667\n",
       "B...    0.0  \n",
       "18  necrosis                            0.166667\n",
       "B...    0.0  \n",
       "25  necrosis                            0.333333\n",
       "B...    1.0  \n",
       "5   necrosis                            0.166667\n",
       "B...    3.0  "
      ]
     },
     "execution_count": 159,
     "metadata": {},
     "output_type": "execute_result"
    }
   ],
   "source": [
    "df_val"
   ]
  },
  {
   "cell_type": "code",
   "execution_count": 150,
   "metadata": {},
   "outputs": [
    {
     "data": {
      "text/html": [
       "<div>\n",
       "<style scoped>\n",
       "    .dataframe tbody tr th:only-of-type {\n",
       "        vertical-align: middle;\n",
       "    }\n",
       "\n",
       "    .dataframe tbody tr th {\n",
       "        vertical-align: top;\n",
       "    }\n",
       "\n",
       "    .dataframe thead th {\n",
       "        text-align: right;\n",
       "    }\n",
       "</style>\n",
       "<table border=\"1\" class=\"dataframe\">\n",
       "  <thead>\n",
       "    <tr style=\"text-align: right;\">\n",
       "      <th></th>\n",
       "      <th>img</th>\n",
       "      <th>label</th>\n",
       "      <th>group</th>\n",
       "    </tr>\n",
       "  </thead>\n",
       "  <tbody>\n",
       "    <tr>\n",
       "      <th>16</th>\n",
       "      <td>Corn_plot14_2019-12-29_09-22-20_resized.hdr</td>\n",
       "      <td>necrosis                            0.166667\n",
       "B...</td>\n",
       "      <td>6.0</td>\n",
       "    </tr>\n",
       "  </tbody>\n",
       "</table>\n",
       "</div>"
      ],
      "text/plain": [
       "                                            img  \\\n",
       "16  Corn_plot14_2019-12-29_09-22-20_resized.hdr   \n",
       "\n",
       "                                                label  group  \n",
       "16  necrosis                            0.166667\n",
       "B...    6.0  "
      ]
     },
     "execution_count": 150,
     "metadata": {},
     "output_type": "execute_result"
    }
   ],
   "source": [
    "df_train.append(train_df_phenotype)"
   ]
  },
  {
   "cell_type": "code",
   "execution_count": 144,
   "metadata": {},
   "outputs": [],
   "source": [
    "temp1 = temp.sample(frac = 0.6)"
   ]
  },
  {
   "cell_type": "code",
   "execution_count": 145,
   "metadata": {},
   "outputs": [],
   "source": [
    "val_test_df_phenotype = temp.drop(temp1.index)"
   ]
  },
  {
   "cell_type": "code",
   "execution_count": 146,
   "metadata": {},
   "outputs": [
    {
     "data": {
      "text/plain": [
       "8"
      ]
     },
     "execution_count": 146,
     "metadata": {},
     "output_type": "execute_result"
    }
   ],
   "source": [
    "len(val_test_df_phenotype)"
   ]
  },
  {
   "cell_type": "code",
   "execution_count": 119,
   "metadata": {},
   "outputs": [
    {
     "data": {
      "text/html": [
       "<div>\n",
       "<style scoped>\n",
       "    .dataframe tbody tr th:only-of-type {\n",
       "        vertical-align: middle;\n",
       "    }\n",
       "\n",
       "    .dataframe tbody tr th {\n",
       "        vertical-align: top;\n",
       "    }\n",
       "\n",
       "    .dataframe thead th {\n",
       "        text-align: right;\n",
       "    }\n",
       "</style>\n",
       "<table border=\"1\" class=\"dataframe\">\n",
       "  <thead>\n",
       "    <tr style=\"text-align: right;\">\n",
       "      <th></th>\n",
       "      <th>img</th>\n",
       "      <th>label</th>\n",
       "      <th>group</th>\n",
       "    </tr>\n",
       "  </thead>\n",
       "  <tbody>\n",
       "    <tr>\n",
       "      <th>21</th>\n",
       "      <td>Corn_plot16_2019-12-24_08-34-02_resized.hdr</td>\n",
       "      <td>necrosis                            0.166667\n",
       "B...</td>\n",
       "      <td>0.0</td>\n",
       "    </tr>\n",
       "    <tr>\n",
       "      <th>6</th>\n",
       "      <td>Corn_plot11_2019-12-22_08-09-57_resized.hdr</td>\n",
       "      <td>necrosis                            0.166667\n",
       "B...</td>\n",
       "      <td>0.0</td>\n",
       "    </tr>\n",
       "    <tr>\n",
       "      <th>9</th>\n",
       "      <td>Corn_plot12_2019-12-22_08-10-41_resized.hdr</td>\n",
       "      <td>necrosis                            0.166667\n",
       "B...</td>\n",
       "      <td>0.0</td>\n",
       "    </tr>\n",
       "    <tr>\n",
       "      <th>0</th>\n",
       "      <td>Corn_plot100_2019-12-22_09-25-00_resized.hdr</td>\n",
       "      <td>necrosis                            0.166667\n",
       "B...</td>\n",
       "      <td>0.0</td>\n",
       "    </tr>\n",
       "    <tr>\n",
       "      <th>26</th>\n",
       "      <td>Corn_plot18_2019-12-22_08-14-58_resized.hdr</td>\n",
       "      <td>necrosis                            0.166667\n",
       "B...</td>\n",
       "      <td>0.0</td>\n",
       "    </tr>\n",
       "    <tr>\n",
       "      <th>14</th>\n",
       "      <td>Corn_plot14_2019-12-22_08-12-00_resized.hdr</td>\n",
       "      <td>necrosis                            0.166667\n",
       "B...</td>\n",
       "      <td>0.0</td>\n",
       "    </tr>\n",
       "    <tr>\n",
       "      <th>17</th>\n",
       "      <td>Corn_plot15_2019-12-22_08-12-38_resized.hdr</td>\n",
       "      <td>necrosis                            0.166667\n",
       "B...</td>\n",
       "      <td>0.0</td>\n",
       "    </tr>\n",
       "    <tr>\n",
       "      <th>7</th>\n",
       "      <td>Corn_plot11_2019-12-24_08-30-01_resized.hdr</td>\n",
       "      <td>necrosis                            0.166667\n",
       "B...</td>\n",
       "      <td>0.0</td>\n",
       "    </tr>\n",
       "    <tr>\n",
       "      <th>13</th>\n",
       "      <td>Corn_plot13_2019-12-29_10-55-31_resized.hdr</td>\n",
       "      <td>necrosis                            0.166667\n",
       "B...</td>\n",
       "      <td>0.0</td>\n",
       "    </tr>\n",
       "    <tr>\n",
       "      <th>18</th>\n",
       "      <td>Corn_plot15_2019-12-24_08-33-17_resized.hdr</td>\n",
       "      <td>necrosis                            0.166667\n",
       "B...</td>\n",
       "      <td>0.0</td>\n",
       "    </tr>\n",
       "    <tr>\n",
       "      <th>23</th>\n",
       "      <td>Corn_plot17_2019-12-22_08-14-20_resized.hdr</td>\n",
       "      <td>necrosis                            0.166667\n",
       "B...</td>\n",
       "      <td>0.0</td>\n",
       "    </tr>\n",
       "    <tr>\n",
       "      <th>4</th>\n",
       "      <td>Corn_plot10_2019-12-24_08-29-15_resized.hdr</td>\n",
       "      <td>necrosis                            0.166667\n",
       "B...</td>\n",
       "      <td>0.0</td>\n",
       "    </tr>\n",
       "  </tbody>\n",
       "</table>\n",
       "</div>"
      ],
      "text/plain": [
       "                                             img  \\\n",
       "21   Corn_plot16_2019-12-24_08-34-02_resized.hdr   \n",
       "6    Corn_plot11_2019-12-22_08-09-57_resized.hdr   \n",
       "9    Corn_plot12_2019-12-22_08-10-41_resized.hdr   \n",
       "0   Corn_plot100_2019-12-22_09-25-00_resized.hdr   \n",
       "26   Corn_plot18_2019-12-22_08-14-58_resized.hdr   \n",
       "14   Corn_plot14_2019-12-22_08-12-00_resized.hdr   \n",
       "17   Corn_plot15_2019-12-22_08-12-38_resized.hdr   \n",
       "7    Corn_plot11_2019-12-24_08-30-01_resized.hdr   \n",
       "13   Corn_plot13_2019-12-29_10-55-31_resized.hdr   \n",
       "18   Corn_plot15_2019-12-24_08-33-17_resized.hdr   \n",
       "23   Corn_plot17_2019-12-22_08-14-20_resized.hdr   \n",
       "4    Corn_plot10_2019-12-24_08-29-15_resized.hdr   \n",
       "\n",
       "                                                label  group  \n",
       "21  necrosis                            0.166667\n",
       "B...    0.0  \n",
       "6   necrosis                            0.166667\n",
       "B...    0.0  \n",
       "9   necrosis                            0.166667\n",
       "B...    0.0  \n",
       "0   necrosis                            0.166667\n",
       "B...    0.0  \n",
       "26  necrosis                            0.166667\n",
       "B...    0.0  \n",
       "14  necrosis                            0.166667\n",
       "B...    0.0  \n",
       "17  necrosis                            0.166667\n",
       "B...    0.0  \n",
       "7   necrosis                            0.166667\n",
       "B...    0.0  \n",
       "13  necrosis                            0.166667\n",
       "B...    0.0  \n",
       "18  necrosis                            0.166667\n",
       "B...    0.0  \n",
       "23  necrosis                            0.166667\n",
       "B...    0.0  \n",
       "4   necrosis                            0.166667\n",
       "B...    0.0  "
      ]
     },
     "execution_count": 119,
     "metadata": {},
     "output_type": "execute_result"
    }
   ],
   "source": [
    "temp1"
   ]
  },
  {
   "cell_type": "code",
   "execution_count": null,
   "metadata": {},
   "outputs": [],
   "source": []
  },
  {
   "cell_type": "code",
   "execution_count": null,
   "metadata": {},
   "outputs": [],
   "source": []
  },
  {
   "cell_type": "code",
   "execution_count": 161,
   "metadata": {},
   "outputs": [
    {
     "name": "stdout",
     "output_type": "stream",
     "text": [
      "Getting data from source...\n",
      "Getting data done.\n"
     ]
    }
   ],
   "source": [
    "df_train, df_val, df_test = get_data_new(\"\", resized_path)"
   ]
  },
  {
   "cell_type": "code",
   "execution_count": 165,
   "metadata": {},
   "outputs": [
    {
     "data": {
      "text/html": [
       "<div>\n",
       "<style scoped>\n",
       "    .dataframe tbody tr th:only-of-type {\n",
       "        vertical-align: middle;\n",
       "    }\n",
       "\n",
       "    .dataframe tbody tr th {\n",
       "        vertical-align: top;\n",
       "    }\n",
       "\n",
       "    .dataframe thead th {\n",
       "        text-align: right;\n",
       "    }\n",
       "</style>\n",
       "<table border=\"1\" class=\"dataframe\">\n",
       "  <thead>\n",
       "    <tr style=\"text-align: right;\">\n",
       "      <th></th>\n",
       "      <th>img</th>\n",
       "      <th>label</th>\n",
       "      <th>group</th>\n",
       "    </tr>\n",
       "  </thead>\n",
       "  <tbody>\n",
       "    <tr>\n",
       "      <th>23</th>\n",
       "      <td>Corn_plot17_2019-12-22_08-14-20_resized.hdr</td>\n",
       "      <td>necrosis                            0.166667\n",
       "B...</td>\n",
       "      <td>0.0</td>\n",
       "    </tr>\n",
       "    <tr>\n",
       "      <th>14</th>\n",
       "      <td>Corn_plot14_2019-12-22_08-12-00_resized.hdr</td>\n",
       "      <td>necrosis                            0.166667\n",
       "B...</td>\n",
       "      <td>0.0</td>\n",
       "    </tr>\n",
       "    <tr>\n",
       "      <th>27</th>\n",
       "      <td>Corn_plot18_2019-12-24_08-35-33_resized.hdr</td>\n",
       "      <td>necrosis                            0.166667\n",
       "B...</td>\n",
       "      <td>0.0</td>\n",
       "    </tr>\n",
       "    <tr>\n",
       "      <th>7</th>\n",
       "      <td>Corn_plot11_2019-12-24_08-30-01_resized.hdr</td>\n",
       "      <td>necrosis                            0.166667\n",
       "B...</td>\n",
       "      <td>0.0</td>\n",
       "    </tr>\n",
       "    <tr>\n",
       "      <th>11</th>\n",
       "      <td>Corn_plot12_2019-12-29_09-21-13_resized.hdr</td>\n",
       "      <td>necrosis                            0.166667\n",
       "B...</td>\n",
       "      <td>3.0</td>\n",
       "    </tr>\n",
       "  </tbody>\n",
       "</table>\n",
       "</div>"
      ],
      "text/plain": [
       "                                            img  \\\n",
       "23  Corn_plot17_2019-12-22_08-14-20_resized.hdr   \n",
       "14  Corn_plot14_2019-12-22_08-12-00_resized.hdr   \n",
       "27  Corn_plot18_2019-12-24_08-35-33_resized.hdr   \n",
       "7   Corn_plot11_2019-12-24_08-30-01_resized.hdr   \n",
       "11  Corn_plot12_2019-12-29_09-21-13_resized.hdr   \n",
       "\n",
       "                                                label  group  \n",
       "23  necrosis                            0.166667\n",
       "B...    0.0  \n",
       "14  necrosis                            0.166667\n",
       "B...    0.0  \n",
       "27  necrosis                            0.166667\n",
       "B...    0.0  \n",
       "7   necrosis                            0.166667\n",
       "B...    0.0  \n",
       "11  necrosis                            0.166667\n",
       "B...    3.0  "
      ]
     },
     "execution_count": 165,
     "metadata": {},
     "output_type": "execute_result"
    }
   ],
   "source": [
    "df_test"
   ]
  },
  {
   "cell_type": "code",
   "execution_count": 166,
   "metadata": {},
   "outputs": [
    {
     "data": {
      "text/plain": [
       "5"
      ]
     },
     "execution_count": 166,
     "metadata": {},
     "output_type": "execute_result"
    }
   ],
   "source": [
    "len(df_test)"
   ]
  },
  {
   "cell_type": "code",
   "execution_count": null,
   "metadata": {},
   "outputs": [],
   "source": []
  },
  {
   "cell_type": "code",
   "execution_count": null,
   "metadata": {},
   "outputs": [],
   "source": []
  },
  {
   "cell_type": "code",
   "execution_count": null,
   "metadata": {},
   "outputs": [],
   "source": []
  },
  {
   "cell_type": "code",
   "execution_count": null,
   "metadata": {},
   "outputs": [],
   "source": []
  },
  {
   "cell_type": "code",
   "execution_count": null,
   "metadata": {},
   "outputs": [],
   "source": []
  },
  {
   "cell_type": "code",
   "execution_count": null,
   "metadata": {},
   "outputs": [],
   "source": []
  },
  {
   "cell_type": "code",
   "execution_count": null,
   "metadata": {},
   "outputs": [],
   "source": []
  },
  {
   "cell_type": "code",
   "execution_count": null,
   "metadata": {},
   "outputs": [],
   "source": []
  },
  {
   "cell_type": "code",
   "execution_count": 5,
   "metadata": {},
   "outputs": [
    {
     "name": "stdout",
     "output_type": "stream",
     "text": [
      "Collecting natsort\n",
      "  Downloading https://files.pythonhosted.org/packages/63/23/8b6acd2e9c0b427802dd45aacf0b2a0250893c3b26c7b1340589a588cc2a/natsort-7.1.1-py3-none-any.whl\n",
      "Installing collected packages: natsort\n",
      "Successfully installed natsort-7.1.1\n"
     ]
    }
   ],
   "source": [
    "! pip install natsort"
   ]
  },
  {
   "cell_type": "code",
   "execution_count": 61,
   "metadata": {},
   "outputs": [],
   "source": [
    "from PIL import Image"
   ]
  },
  {
   "cell_type": "code",
   "execution_count": null,
   "metadata": {},
   "outputs": [],
   "source": []
  },
  {
   "cell_type": "code",
   "execution_count": 64,
   "metadata": {},
   "outputs": [],
   "source": [
    "class CustomDataSet(Dataset):\n",
    "    def __init__(self, main_dir, image_dir, transform, is_resize):\n",
    "        self.main_dir = main_dir\n",
    "        self.image_dir = image_dir\n",
    "        self.transform = transform\n",
    "        self.is_resize = is_resize\n",
    "        all_imgs = os.listdir(main_dir)\n",
    "        self.total_imgs = natsort.natsorted(all_imgs)\n",
    "\n",
    "    def __len__(self):\n",
    "        return len(self.total_imgs)\n",
    "\n",
    "    def __getitem__(self, idx):\n",
    "        hdr_loc = os.path.join(self.main_dir, self.total_imgs[idx])\n",
    "        img_loc = os.path.join(self.image_dir, self.total_imgs[idx].replace(\".hdr\", \".img\"))\n",
    "        image = envi.open(hdr_loc, img_loc)\n",
    "        if self.is_resize:\n",
    "            resized = resize(image, size)\n",
    "            \"\"\"get mean and std from top 2 rows for background\"\"\"\n",
    "            mean = np.median(image[:, 0:1, :], axis=(0, 1))  # median for every band\n",
    "            black_std = np.std(image[:, 0:1, :], axis=(0, 1))\n",
    "            final_image = pad_img(resized, size, mean, black_std, img)\n",
    "        else:\n",
    "            final_image = np.zeros((image.shape[0], image.shape[1], image.shape[2]))\n",
    "            final_image[:, :, :] = image[:, :, :]\n",
    "        x=[]\n",
    "        #set a seed so the same transforms are applied to each channel\n",
    "        seed = np.random.randint(2147483647)\n",
    "        print(final_image.shape[2])\n",
    "        for ch in range(final_image.shape[2]):\n",
    "            random.seed(seed)\n",
    "            x.append(transform(Image.fromarray(final_image[:, :, ch])))\n",
    "        #this is the multichannel transformed image (a torch tensor)\n",
    "        img_tfm = torch.cat(x)\n",
    "        return img_tfm\n",
    "\n",
    "storage_path = \"D:/My Drive/StoragePath\"\n",
    "result_path = storage_path + \"/ExpResults/tal_exp_results\"\n",
    "resized_path = result_path + \"/resized\"\n",
    "resized_img_path = result_path + \"/resizes_img\"\n",
    "no_note_path = result_path + \"/no_note_background\"\n",
    "no_note_img_path = result_path + \"/no_note_background_img\"\n",
    "\n",
    "tfms = transforms.Compose([transforms.RandomHorizontalFlip(),\n",
    "                   transforms.ToTensor()])\n",
    "\n",
    "my_dataset = CustomDataSet(no_note_path, no_note_img_path, transform=tfms)\n",
    "x, y = random_split(my_dataset, [20, 9])\n",
    "\n",
    "train_loader = DataLoader(my_dataset , batch_size=1, shuffle=False, \n",
    "                               num_workers=0, drop_last=True)\n",
    "\n",
    "# for idx, img in enumerate(train_loader):\n",
    "#     #do your training now\n",
    "#     print(img)"
   ]
  },
  {
   "cell_type": "code",
   "execution_count": null,
   "metadata": {},
   "outputs": [],
   "source": [
    "def get_labels(img):\n",
    "    date = img.split('_')[2]\n",
    "    date = date.replace('-', '')\n",
    "    date = int(date[2:])\n",
    "    # img_name = img.split('_')[1]\n",
    "    # img_name = img_name.replace('plot', '')\n",
    "    if not (\"plot\" in img):\n",
    "        print(\"found image not of plot in no_note_background\")\n",
    "        return False\n",
    "    plot_num = int(img.split('plot')[1].split(\"_\")[0])\n",
    "    if plot_num > 0:\n",
    "        # print(date)\n",
    "        # print(f'getting labels')\n",
    "        labels = labels_df[(labels_df['SampleDate'] == date) & (labels_df['plot'] == plot_num)].iloc[0]\n",
    "        labels = labels.drop(labels=['plot', 'SampleDate', 'Y_cropped'])\n",
    "    return labels"
   ]
  },
  {
   "cell_type": "code",
   "execution_count": null,
   "metadata": {},
   "outputs": [],
   "source": []
  },
  {
   "cell_type": "code",
   "execution_count": null,
   "metadata": {},
   "outputs": [],
   "source": []
  },
  {
   "cell_type": "code",
   "execution_count": null,
   "metadata": {},
   "outputs": [],
   "source": []
  },
  {
   "cell_type": "code",
   "execution_count": null,
   "metadata": {},
   "outputs": [],
   "source": []
  },
  {
   "cell_type": "code",
   "execution_count": null,
   "metadata": {},
   "outputs": [],
   "source": []
  },
  {
   "cell_type": "code",
   "execution_count": 57,
   "metadata": {},
   "outputs": [],
   "source": [
    "import random"
   ]
  },
  {
   "cell_type": "code",
   "execution_count": null,
   "metadata": {},
   "outputs": [],
   "source": []
  },
  {
   "cell_type": "code",
   "execution_count": 65,
   "metadata": {},
   "outputs": [],
   "source": [
    "x, y = random_split(my_dataset, [20, 9])"
   ]
  },
  {
   "cell_type": "code",
   "execution_count": null,
   "metadata": {},
   "outputs": [],
   "source": []
  },
  {
   "cell_type": "code",
   "execution_count": 39,
   "metadata": {},
   "outputs": [
    {
     "data": {
      "text/plain": [
       "<torch.utils.data.dataset.Subset at 0x205806adba8>"
      ]
     },
     "execution_count": 39,
     "metadata": {},
     "output_type": "execute_result"
    }
   ],
   "source": [
    "x"
   ]
  },
  {
   "cell_type": "code",
   "execution_count": null,
   "metadata": {},
   "outputs": [],
   "source": []
  },
  {
   "cell_type": "code",
   "execution_count": 37,
   "metadata": {},
   "outputs": [
    {
     "data": {
      "text/plain": [
       "29"
      ]
     },
     "execution_count": 37,
     "metadata": {},
     "output_type": "execute_result"
    }
   ],
   "source": [
    "len(my_dataset.total_imgs)"
   ]
  },
  {
   "cell_type": "code",
   "execution_count": 50,
   "metadata": {},
   "outputs": [],
   "source": [
    "transform = transforms.Compose([\n",
    "    transforms.RandomHorizontalFlip(),\n",
    "    transforms.ToTensor()\n",
    "])"
   ]
  },
  {
   "cell_type": "code",
   "execution_count": null,
   "metadata": {},
   "outputs": [],
   "source": [
    "tfms = transforms.Compose([transforms.RandomHorizontalFlip(),\n",
    "                           transforms.RandomVerticalFlip(),\n",
    "                           transforms.ToTensor()])\n",
    "\n",
    "x=[]\n",
    "#set a seed so the same transforms are applied to each channel\n",
    "seed = np.random.randint(2147483647)\n",
    "for ch in img:\n",
    "    random.seed(seed)\n",
    "    x.append(tfms(Image.fromarray(ch)))\n",
    "\n",
    "#this is the multichannel transformed image (a torch tensor)\n",
    "img_tfm = torch.cat(x)"
   ]
  },
  {
   "cell_type": "code",
   "execution_count": null,
   "metadata": {},
   "outputs": [],
   "source": [
    "#use fastai's transforms\n",
    "tfms = get_transforms(flip_vert=True,max_warp=None,max_rotate=45,max_lighting=None,max_zoom=1.1)\n",
    "\n",
    "#img is a torch tensor (how many channels you need)\n",
    "fastai_img = fastai.vision.Image(img)\n",
    "            \n",
    "#apply the transforms to the image\n",
    "for tfm in tfms:\n",
    "    fastai_img = fastai_img.apply_tfms(tfm,size=224)\n",
    "\n",
    "#this is the multichannel transformed image (a torch tensor)\n",
    "img_tfm = fastai_img.data"
   ]
  },
  {
   "cell_type": "code",
   "execution_count": 55,
   "metadata": {},
   "outputs": [
    {
     "ename": "ModuleNotFoundError",
     "evalue": "No module named 'fastai'",
     "output_type": "error",
     "traceback": [
      "\u001B[1;31m---------------------------------------------------------------------------\u001B[0m",
      "\u001B[1;31mModuleNotFoundError\u001B[0m                       Traceback (most recent call last)",
      "\u001B[1;32m<ipython-input-55-141de30be84a>\u001B[0m in \u001B[0;36m<module>\u001B[1;34m\u001B[0m\n\u001B[1;32m----> 1\u001B[1;33m \u001B[1;32mfrom\u001B[0m \u001B[0mfastai\u001B[0m\u001B[1;33m.\u001B[0m\u001B[0mbasics\u001B[0m \u001B[1;32mimport\u001B[0m \u001B[1;33m*\u001B[0m\u001B[1;33m\u001B[0m\u001B[1;33m\u001B[0m\u001B[0m\n\u001B[0m",
      "\u001B[1;31mModuleNotFoundError\u001B[0m: No module named 'fastai'"
     ]
    }
   ],
   "source": [
    "from fastai.basics import *"
   ]
  },
  {
   "cell_type": "code",
   "execution_count": null,
   "metadata": {},
   "outputs": [],
   "source": []
  },
  {
   "cell_type": "code",
   "execution_count": null,
   "metadata": {},
   "outputs": [],
   "source": []
  },
  {
   "cell_type": "code",
   "execution_count": null,
   "metadata": {},
   "outputs": [],
   "source": []
  },
  {
   "cell_type": "code",
   "execution_count": null,
   "metadata": {},
   "outputs": [],
   "source": [
    "transforms.RandomHorizontalFlip(),\n",
    "transforms.ToTensor(),"
   ]
  },
  {
   "cell_type": "code",
   "execution_count": null,
   "metadata": {},
   "outputs": [],
   "source": []
  },
  {
   "cell_type": "code",
   "execution_count": null,
   "metadata": {},
   "outputs": [],
   "source": []
  },
  {
   "cell_type": "code",
   "execution_count": null,
   "metadata": {},
   "outputs": [],
   "source": []
  },
  {
   "cell_type": "code",
   "execution_count": 52,
   "metadata": {},
   "outputs": [
    {
     "name": "stdout",
     "output_type": "stream",
     "text": [
      "Collecting fastai"
     ]
    },
    {
     "name": "stderr",
     "output_type": "stream",
     "text": [
      "  Could not find a version that satisfies the requirement torchvision<0.9,>=0.8 (from fastai) (from versions: 0.1.6, 0.1.7, 0.1.8, 0.1.9, 0.2.0, 0.2.1, 0.2.2, 0.2.2.post2, 0.2.2.post3, 0.3.0, 0.4.1, 0.5.0)\n",
      "No matching distribution found for torchvision<0.9,>=0.8 (from fastai)\n"
     ]
    },
    {
     "name": "stdout",
     "output_type": "stream",
     "text": [
      "\n",
      "  Using cached https://files.pythonhosted.org/packages/f3/09/36d4d472d0c953f5d931f4c415f715a909793e5d222af205f3e65c034da3/fastai-2.2.5-py3-none-any.whl\n",
      "Collecting torch<1.8,>=1.7.0 (from fastai)\n",
      "  Downloading https://files.pythonhosted.org/packages/5d/9f/68a18d38927ccf56f30062344b2f1e439dc293610711958b249c0a1f7606/torch-1.7.1-cp37-cp37m-win_amd64.whl (184.1MB)\n",
      "Requirement already satisfied: packaging in c:\\users\\talh\\appdata\\local\\continuum\\anaconda3\\envs\\pytorchenv\\lib\\site-packages (from fastai) (20.8)\n",
      "Requirement already satisfied: requests in c:\\users\\talh\\appdata\\local\\continuum\\anaconda3\\envs\\pytorchenv\\lib\\site-packages (from fastai) (2.23.0)\n",
      "Collecting pillow>6.0.0 (from fastai)\n",
      "  Using cached https://files.pythonhosted.org/packages/f2/27/d432a1a51a92343c4e9b172bab94a03cb9886fcb2f49c5e4933ed6e34831/Pillow-8.1.0-cp37-cp37m-win_amd64.whl\n",
      "Collecting spacy (from fastai)\n",
      "  Downloading https://files.pythonhosted.org/packages/69/e7/a5afb4d74eed898cb3d4f2df0326a01aab43724bd293db6a373ccd78da48/spacy-3.0.3-cp37-cp37m-win_amd64.whl (11.6MB)\n",
      "Requirement already satisfied: pyyaml in c:\\users\\talh\\appdata\\local\\continuum\\anaconda3\\envs\\pytorchenv\\lib\\site-packages (from fastai) (5.3.1)\n",
      "Collecting torchvision<0.9,>=0.8 (from fastai)\n"
     ]
    }
   ],
   "source": [
    "!pip install fastai"
   ]
  },
  {
   "cell_type": "code",
   "execution_count": 53,
   "metadata": {},
   "outputs": [
    {
     "name": "stdout",
     "output_type": "stream",
     "text": [
      "1.1.0\n"
     ]
    }
   ],
   "source": [
    "print(torch.__version__)"
   ]
  },
  {
   "cell_type": "code",
   "execution_count": null,
   "metadata": {},
   "outputs": [],
   "source": []
  },
  {
   "cell_type": "code",
   "execution_count": 32,
   "metadata": {},
   "outputs": [
    {
     "data": {
      "text/plain": [
       "[4, 7, 0]"
      ]
     },
     "execution_count": 32,
     "metadata": {},
     "output_type": "execute_result"
    }
   ],
   "source": [
    "x.indices"
   ]
  },
  {
   "cell_type": "code",
   "execution_count": 34,
   "metadata": {},
   "outputs": [
    {
     "data": {
      "text/plain": [
       "14"
      ]
     },
     "execution_count": 34,
     "metadata": {},
     "output_type": "execute_result"
    }
   ],
   "source": [
    "len(train_loader)"
   ]
  },
  {
   "cell_type": "code",
   "execution_count": null,
   "metadata": {},
   "outputs": [],
   "source": []
  },
  {
   "cell_type": "code",
   "execution_count": null,
   "metadata": {},
   "outputs": [],
   "source": []
  },
  {
   "cell_type": "code",
   "execution_count": null,
   "metadata": {},
   "outputs": [],
   "source": []
  },
  {
   "cell_type": "code",
   "execution_count": null,
   "metadata": {},
   "outputs": [],
   "source": []
  },
  {
   "cell_type": "code",
   "execution_count": null,
   "metadata": {},
   "outputs": [],
   "source": []
  },
  {
   "cell_type": "code",
   "execution_count": null,
   "metadata": {},
   "outputs": [],
   "source": []
  },
  {
   "cell_type": "code",
   "execution_count": null,
   "metadata": {},
   "outputs": [],
   "source": []
  },
  {
   "cell_type": "code",
   "execution_count": null,
   "metadata": {},
   "outputs": [],
   "source": [
    "for idx, img in enumerate(train_loader):\n",
    "    #do your training now\n",
    "    print(idx)"
   ]
  },
  {
   "cell_type": "code",
   "execution_count": 23,
   "metadata": {},
   "outputs": [],
   "source": [
    "storage_path = \"D:/My Drive/StoragePath\"\n",
    "result_path = storage_path + \"/ExpResults/tal_exp_results\"\n",
    "resized_path = result_path + \"/resized\"\n",
    "resized_img_path = result_path + \"/resizes_img\"\n"
   ]
  },
  {
   "cell_type": "code",
   "execution_count": 22,
   "metadata": {},
   "outputs": [
    {
     "ename": "EnviDataFileNotFoundError",
     "evalue": "Unable to determine the ENVI data file name for the given header file. You can specify the data file by passing its name as the optional `image` argument to envi.open.",
     "output_type": "error",
     "traceback": [
      "\u001B[1;31m---------------------------------------------------------------------------\u001B[0m",
      "\u001B[1;31mEnviDataFileNotFoundError\u001B[0m                 Traceback (most recent call last)",
      "\u001B[1;32m<ipython-input-22-5d1f7765e8e7>\u001B[0m in \u001B[0;36m<module>\u001B[1;34m\u001B[0m\n\u001B[1;32m----> 1\u001B[1;33m \u001B[1;32mfor\u001B[0m \u001B[0midx\u001B[0m\u001B[1;33m,\u001B[0m \u001B[0mimg\u001B[0m \u001B[1;32min\u001B[0m \u001B[0menumerate\u001B[0m\u001B[1;33m(\u001B[0m\u001B[0mtrain_loader\u001B[0m\u001B[1;33m)\u001B[0m\u001B[1;33m:\u001B[0m\u001B[1;33m\u001B[0m\u001B[1;33m\u001B[0m\u001B[0m\n\u001B[0m\u001B[0;32m      2\u001B[0m     \u001B[1;31m#do your training now\u001B[0m\u001B[1;33m\u001B[0m\u001B[1;33m\u001B[0m\u001B[1;33m\u001B[0m\u001B[0m\n\u001B[0;32m      3\u001B[0m     \u001B[0mprint\u001B[0m\u001B[1;33m(\u001B[0m\u001B[0midx\u001B[0m\u001B[1;33m)\u001B[0m\u001B[1;33m\u001B[0m\u001B[1;33m\u001B[0m\u001B[0m\n",
      "\u001B[1;32m~\\AppData\\Local\\Continuum\\anaconda3\\envs\\pytorchenv\\lib\\site-packages\\torch\\utils\\data\\dataloader.py\u001B[0m in \u001B[0;36m__next__\u001B[1;34m(self)\u001B[0m\n\u001B[0;32m    558\u001B[0m         \u001B[1;32mif\u001B[0m \u001B[0mself\u001B[0m\u001B[1;33m.\u001B[0m\u001B[0mnum_workers\u001B[0m \u001B[1;33m==\u001B[0m \u001B[1;36m0\u001B[0m\u001B[1;33m:\u001B[0m  \u001B[1;31m# same-process loading\u001B[0m\u001B[1;33m\u001B[0m\u001B[1;33m\u001B[0m\u001B[0m\n\u001B[0;32m    559\u001B[0m             \u001B[0mindices\u001B[0m \u001B[1;33m=\u001B[0m \u001B[0mnext\u001B[0m\u001B[1;33m(\u001B[0m\u001B[0mself\u001B[0m\u001B[1;33m.\u001B[0m\u001B[0msample_iter\u001B[0m\u001B[1;33m)\u001B[0m  \u001B[1;31m# may raise StopIteration\u001B[0m\u001B[1;33m\u001B[0m\u001B[1;33m\u001B[0m\u001B[0m\n\u001B[1;32m--> 560\u001B[1;33m             \u001B[0mbatch\u001B[0m \u001B[1;33m=\u001B[0m \u001B[0mself\u001B[0m\u001B[1;33m.\u001B[0m\u001B[0mcollate_fn\u001B[0m\u001B[1;33m(\u001B[0m\u001B[1;33m[\u001B[0m\u001B[0mself\u001B[0m\u001B[1;33m.\u001B[0m\u001B[0mdataset\u001B[0m\u001B[1;33m[\u001B[0m\u001B[0mi\u001B[0m\u001B[1;33m]\u001B[0m \u001B[1;32mfor\u001B[0m \u001B[0mi\u001B[0m \u001B[1;32min\u001B[0m \u001B[0mindices\u001B[0m\u001B[1;33m]\u001B[0m\u001B[1;33m)\u001B[0m\u001B[1;33m\u001B[0m\u001B[1;33m\u001B[0m\u001B[0m\n\u001B[0m\u001B[0;32m    561\u001B[0m             \u001B[1;32mif\u001B[0m \u001B[0mself\u001B[0m\u001B[1;33m.\u001B[0m\u001B[0mpin_memory\u001B[0m\u001B[1;33m:\u001B[0m\u001B[1;33m\u001B[0m\u001B[1;33m\u001B[0m\u001B[0m\n\u001B[0;32m    562\u001B[0m                 \u001B[0mbatch\u001B[0m \u001B[1;33m=\u001B[0m \u001B[0m_utils\u001B[0m\u001B[1;33m.\u001B[0m\u001B[0mpin_memory\u001B[0m\u001B[1;33m.\u001B[0m\u001B[0mpin_memory_batch\u001B[0m\u001B[1;33m(\u001B[0m\u001B[0mbatch\u001B[0m\u001B[1;33m)\u001B[0m\u001B[1;33m\u001B[0m\u001B[1;33m\u001B[0m\u001B[0m\n",
      "\u001B[1;32m~\\AppData\\Local\\Continuum\\anaconda3\\envs\\pytorchenv\\lib\\site-packages\\torch\\utils\\data\\dataloader.py\u001B[0m in \u001B[0;36m<listcomp>\u001B[1;34m(.0)\u001B[0m\n\u001B[0;32m    558\u001B[0m         \u001B[1;32mif\u001B[0m \u001B[0mself\u001B[0m\u001B[1;33m.\u001B[0m\u001B[0mnum_workers\u001B[0m \u001B[1;33m==\u001B[0m \u001B[1;36m0\u001B[0m\u001B[1;33m:\u001B[0m  \u001B[1;31m# same-process loading\u001B[0m\u001B[1;33m\u001B[0m\u001B[1;33m\u001B[0m\u001B[0m\n\u001B[0;32m    559\u001B[0m             \u001B[0mindices\u001B[0m \u001B[1;33m=\u001B[0m \u001B[0mnext\u001B[0m\u001B[1;33m(\u001B[0m\u001B[0mself\u001B[0m\u001B[1;33m.\u001B[0m\u001B[0msample_iter\u001B[0m\u001B[1;33m)\u001B[0m  \u001B[1;31m# may raise StopIteration\u001B[0m\u001B[1;33m\u001B[0m\u001B[1;33m\u001B[0m\u001B[0m\n\u001B[1;32m--> 560\u001B[1;33m             \u001B[0mbatch\u001B[0m \u001B[1;33m=\u001B[0m \u001B[0mself\u001B[0m\u001B[1;33m.\u001B[0m\u001B[0mcollate_fn\u001B[0m\u001B[1;33m(\u001B[0m\u001B[1;33m[\u001B[0m\u001B[0mself\u001B[0m\u001B[1;33m.\u001B[0m\u001B[0mdataset\u001B[0m\u001B[1;33m[\u001B[0m\u001B[0mi\u001B[0m\u001B[1;33m]\u001B[0m \u001B[1;32mfor\u001B[0m \u001B[0mi\u001B[0m \u001B[1;32min\u001B[0m \u001B[0mindices\u001B[0m\u001B[1;33m]\u001B[0m\u001B[1;33m)\u001B[0m\u001B[1;33m\u001B[0m\u001B[1;33m\u001B[0m\u001B[0m\n\u001B[0m\u001B[0;32m    561\u001B[0m             \u001B[1;32mif\u001B[0m \u001B[0mself\u001B[0m\u001B[1;33m.\u001B[0m\u001B[0mpin_memory\u001B[0m\u001B[1;33m:\u001B[0m\u001B[1;33m\u001B[0m\u001B[1;33m\u001B[0m\u001B[0m\n\u001B[0;32m    562\u001B[0m                 \u001B[0mbatch\u001B[0m \u001B[1;33m=\u001B[0m \u001B[0m_utils\u001B[0m\u001B[1;33m.\u001B[0m\u001B[0mpin_memory\u001B[0m\u001B[1;33m.\u001B[0m\u001B[0mpin_memory_batch\u001B[0m\u001B[1;33m(\u001B[0m\u001B[0mbatch\u001B[0m\u001B[1;33m)\u001B[0m\u001B[1;33m\u001B[0m\u001B[1;33m\u001B[0m\u001B[0m\n",
      "\u001B[1;32m<ipython-input-18-434bad3d51e5>\u001B[0m in \u001B[0;36m__getitem__\u001B[1;34m(self, idx)\u001B[0m\n\u001B[0;32m     11\u001B[0m     \u001B[1;32mdef\u001B[0m \u001B[0m__getitem__\u001B[0m\u001B[1;33m(\u001B[0m\u001B[0mself\u001B[0m\u001B[1;33m,\u001B[0m \u001B[0midx\u001B[0m\u001B[1;33m)\u001B[0m\u001B[1;33m:\u001B[0m\u001B[1;33m\u001B[0m\u001B[1;33m\u001B[0m\u001B[0m\n\u001B[0;32m     12\u001B[0m         \u001B[0mimg_loc\u001B[0m \u001B[1;33m=\u001B[0m \u001B[0mos\u001B[0m\u001B[1;33m.\u001B[0m\u001B[0mpath\u001B[0m\u001B[1;33m.\u001B[0m\u001B[0mjoin\u001B[0m\u001B[1;33m(\u001B[0m\u001B[0mself\u001B[0m\u001B[1;33m.\u001B[0m\u001B[0mmain_dir\u001B[0m\u001B[1;33m,\u001B[0m \u001B[0mself\u001B[0m\u001B[1;33m.\u001B[0m\u001B[0mtotal_imgs\u001B[0m\u001B[1;33m[\u001B[0m\u001B[0midx\u001B[0m\u001B[1;33m]\u001B[0m\u001B[1;33m)\u001B[0m\u001B[1;33m\u001B[0m\u001B[1;33m\u001B[0m\u001B[0m\n\u001B[1;32m---> 13\u001B[1;33m         \u001B[0mimage\u001B[0m \u001B[1;33m=\u001B[0m \u001B[0menvi\u001B[0m\u001B[1;33m.\u001B[0m\u001B[0mopen\u001B[0m\u001B[1;33m(\u001B[0m\u001B[0mimg_loc\u001B[0m\u001B[1;33m)\u001B[0m\u001B[1;33m\u001B[0m\u001B[1;33m\u001B[0m\u001B[0m\n\u001B[0m\u001B[0;32m     14\u001B[0m         \u001B[0mfinal_image\u001B[0m \u001B[1;33m=\u001B[0m \u001B[0mnp\u001B[0m\u001B[1;33m.\u001B[0m\u001B[0mzeros\u001B[0m\u001B[1;33m(\u001B[0m\u001B[1;33m(\u001B[0m\u001B[0mimage\u001B[0m\u001B[1;33m.\u001B[0m\u001B[0mshape\u001B[0m\u001B[1;33m[\u001B[0m\u001B[1;36m0\u001B[0m\u001B[1;33m]\u001B[0m\u001B[1;33m,\u001B[0m \u001B[0mimage\u001B[0m\u001B[1;33m.\u001B[0m\u001B[0mshape\u001B[0m\u001B[1;33m[\u001B[0m\u001B[1;36m1\u001B[0m\u001B[1;33m]\u001B[0m\u001B[1;33m,\u001B[0m \u001B[0mimage\u001B[0m\u001B[1;33m.\u001B[0m\u001B[0mshape\u001B[0m\u001B[1;33m[\u001B[0m\u001B[1;36m2\u001B[0m\u001B[1;33m]\u001B[0m\u001B[1;33m)\u001B[0m\u001B[1;33m)\u001B[0m\u001B[1;33m\u001B[0m\u001B[1;33m\u001B[0m\u001B[0m\n\u001B[0;32m     15\u001B[0m         \u001B[0mfinal_image\u001B[0m\u001B[1;33m[\u001B[0m\u001B[1;33m:\u001B[0m\u001B[1;33m,\u001B[0m \u001B[1;33m:\u001B[0m\u001B[1;33m,\u001B[0m \u001B[1;33m:\u001B[0m\u001B[1;33m]\u001B[0m \u001B[1;33m=\u001B[0m \u001B[0mimage\u001B[0m\u001B[1;33m[\u001B[0m\u001B[1;33m:\u001B[0m\u001B[1;33m,\u001B[0m \u001B[1;33m:\u001B[0m\u001B[1;33m,\u001B[0m \u001B[1;33m:\u001B[0m\u001B[1;33m]\u001B[0m\u001B[1;33m\u001B[0m\u001B[1;33m\u001B[0m\u001B[0m\n",
      "\u001B[1;32m~\\AppData\\Local\\Continuum\\anaconda3\\envs\\pytorchenv\\lib\\site-packages\\spectral\\io\\envi.py\u001B[0m in \u001B[0;36mopen\u001B[1;34m(file, image)\u001B[0m\n\u001B[0;32m    313\u001B[0m               \u001B[1;34m'given header file. You can specify the data file by passing '\u001B[0m\u001B[0;31m \u001B[0m\u001B[0;31m\\\u001B[0m\u001B[1;33m\u001B[0m\u001B[1;33m\u001B[0m\u001B[0m\n\u001B[0;32m    314\u001B[0m               \u001B[1;34m'its name as the optional `image` argument to envi.open.'\u001B[0m\u001B[1;33m\u001B[0m\u001B[1;33m\u001B[0m\u001B[0m\n\u001B[1;32m--> 315\u001B[1;33m             \u001B[1;32mraise\u001B[0m \u001B[0mEnviDataFileNotFoundError\u001B[0m\u001B[1;33m(\u001B[0m\u001B[0mmsg\u001B[0m\u001B[1;33m)\u001B[0m\u001B[1;33m\u001B[0m\u001B[1;33m\u001B[0m\u001B[0m\n\u001B[0m\u001B[0;32m    316\u001B[0m     \u001B[1;32melse\u001B[0m\u001B[1;33m:\u001B[0m\u001B[1;33m\u001B[0m\u001B[1;33m\u001B[0m\u001B[0m\n\u001B[0;32m    317\u001B[0m         \u001B[0mimage\u001B[0m \u001B[1;33m=\u001B[0m \u001B[0mfind_file_path\u001B[0m\u001B[1;33m(\u001B[0m\u001B[0mimage\u001B[0m\u001B[1;33m)\u001B[0m\u001B[1;33m\u001B[0m\u001B[1;33m\u001B[0m\u001B[0m\n",
      "\u001B[1;31mEnviDataFileNotFoundError\u001B[0m: Unable to determine the ENVI data file name for the given header file. You can specify the data file by passing its name as the optional `image` argument to envi.open."
     ]
    }
   ],
   "source": [
    "for idx, img in enumerate(train_loader):\n",
    "    #do your training now\n",
    "    print(idx)"
   ]
  },
  {
   "cell_type": "code",
   "execution_count": null,
   "metadata": {},
   "outputs": [],
   "source": []
  },
  {
   "cell_type": "code",
   "execution_count": null,
   "metadata": {},
   "outputs": [],
   "source": []
  },
  {
   "cell_type": "code",
   "execution_count": null,
   "metadata": {},
   "outputs": [],
   "source": []
  },
  {
   "cell_type": "code",
   "execution_count": null,
   "metadata": {},
   "outputs": [],
   "source": []
  },
  {
   "cell_type": "code",
   "execution_count": 21,
   "metadata": {},
   "outputs": [],
   "source": [
    "my_dataset = CustomDataSet(resized_path, transform=None)\n",
    "train_loader = DataLoader(my_dataset , batch_size=2, shuffle=False, \n",
    "                               num_workers=0, drop_last=True)"
   ]
  },
  {
   "cell_type": "code",
   "execution_count": null,
   "metadata": {},
   "outputs": [],
   "source": []
  },
  {
   "cell_type": "code",
   "execution_count": null,
   "metadata": {},
   "outputs": [],
   "source": []
  },
  {
   "cell_type": "code",
   "execution_count": null,
   "metadata": {},
   "outputs": [],
   "source": []
  },
  {
   "cell_type": "code",
   "execution_count": null,
   "metadata": {},
   "outputs": [],
   "source": []
  },
  {
   "cell_type": "code",
   "execution_count": null,
   "metadata": {},
   "outputs": [],
   "source": []
  },
  {
   "cell_type": "code",
   "execution_count": null,
   "metadata": {},
   "outputs": [],
   "source": []
  }
 ],
 "metadata": {
  "kernelspec": {
   "name": "pycharm-a6681fee",
   "language": "python",
   "display_name": "PyCharm (ResNet)"
  },
  "language_info": {
   "codemirror_mode": {
    "name": "ipython",
    "version": 3
   },
   "file_extension": ".py",
   "mimetype": "text/x-python",
   "name": "python",
   "nbconvert_exporter": "python",
   "pygments_lexer": "ipython3",
   "version": "3.7.3"
  }
 },
 "nbformat": 4,
 "nbformat_minor": 4
}